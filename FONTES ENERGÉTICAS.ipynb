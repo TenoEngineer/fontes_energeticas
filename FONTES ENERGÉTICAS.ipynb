{
 "cells": [
  {
   "cell_type": "markdown",
   "metadata": {},
   "source": [
    "# FONTES ENERGÉTICAS"
   ]
  },
  {
   "cell_type": "markdown",
   "metadata": {},
   "source": [
    "## Estudando os dados do arquivo"
   ]
  },
  {
   "cell_type": "markdown",
   "metadata": {},
   "source": [
    "### Importando bibliotecas"
   ]
  },
  {
   "cell_type": "code",
   "execution_count": 85,
   "metadata": {},
   "outputs": [],
   "source": [
    "import pandas as pd\n",
    "import numpy as np\n",
    "import matplotlib.pyplot as plt\n",
    "import seaborn as sns\n",
    "%matplotlib inline"
   ]
  },
  {
   "cell_type": "markdown",
   "metadata": {},
   "source": [
    "### Importando csv"
   ]
  },
  {
   "cell_type": "code",
   "execution_count": 8,
   "metadata": {},
   "outputs": [
    {
     "data": {
      "text/html": [
       "<div>\n",
       "<style scoped>\n",
       "    .dataframe tbody tr th:only-of-type {\n",
       "        vertical-align: middle;\n",
       "    }\n",
       "\n",
       "    .dataframe tbody tr th {\n",
       "        vertical-align: top;\n",
       "    }\n",
       "\n",
       "    .dataframe thead th {\n",
       "        text-align: right;\n",
       "    }\n",
       "</style>\n",
       "<table border=\"1\" class=\"dataframe\">\n",
       "  <thead>\n",
       "    <tr style=\"text-align: right;\">\n",
       "      <th></th>\n",
       "      <th>CNPJ</th>\n",
       "      <th>Razão Social</th>\n",
       "      <th>Estado</th>\n",
       "      <th>Município</th>\n",
       "      <th>Código da Categoria</th>\n",
       "      <th>Categoria de Atividade</th>\n",
       "      <th>Código do Detalhe</th>\n",
       "      <th>Detalhe</th>\n",
       "      <th>Ano</th>\n",
       "      <th>Tipo de Fonte Energética</th>\n",
       "      <th>Quantidade Consumida</th>\n",
       "      <th>Unidade de Medida</th>\n",
       "      <th>Observações</th>\n",
       "      <th>Energia</th>\n",
       "      <th>Emissões de CO2</th>\n",
       "      <th>Situação Cadastral</th>\n",
       "    </tr>\n",
       "  </thead>\n",
       "  <tbody>\n",
       "    <tr>\n",
       "      <th>0</th>\n",
       "      <td>00.001.392/0001-03</td>\n",
       "      <td>COVOLAN BENEFICIAMENTOS TEXTEIS LTDA</td>\n",
       "      <td>SAO PAULO</td>\n",
       "      <td>SANTA BARBARA D'OESTE</td>\n",
       "      <td>11</td>\n",
       "      <td>Indústria Têxtil, de Vestuário, Calçados e Art...</td>\n",
       "      <td>3</td>\n",
       "      <td>Tingimento, estamparia e outros acabamentos em...</td>\n",
       "      <td>2012</td>\n",
       "      <td>Gás Natural (Seco)</td>\n",
       "      <td>1920000,00</td>\n",
       "      <td>t/m³</td>\n",
       "      <td>A quantidade de gás natural utilizada como mat...</td>\n",
       "      <td>52,34</td>\n",
       "      <td>2921,72</td>\n",
       "      <td>Ativa</td>\n",
       "    </tr>\n",
       "    <tr>\n",
       "      <th>1</th>\n",
       "      <td>00.001.392/0001-03</td>\n",
       "      <td>COVOLAN BENEFICIAMENTOS TEXTEIS LTDA</td>\n",
       "      <td>SAO PAULO</td>\n",
       "      <td>SANTA BARBARA D'OESTE</td>\n",
       "      <td>11</td>\n",
       "      <td>Indústria Têxtil, de Vestuário, Calçados e Art...</td>\n",
       "      <td>3</td>\n",
       "      <td>Tingimento, estamparia e outros acabamentos em...</td>\n",
       "      <td>2013</td>\n",
       "      <td>Eletricidade -  Rede Pública</td>\n",
       "      <td>232,85</td>\n",
       "      <td>MWh</td>\n",
       "      <td>Se possível, informe a quantidade de energia c...</td>\n",
       "      <td>0,84</td>\n",
       "      <td>0,00</td>\n",
       "      <td>Ativa</td>\n",
       "    </tr>\n",
       "    <tr>\n",
       "      <th>2</th>\n",
       "      <td>00.001.392/0001-03</td>\n",
       "      <td>COVOLAN BENEFICIAMENTOS TEXTEIS LTDA</td>\n",
       "      <td>SAO PAULO</td>\n",
       "      <td>SANTA BARBARA D'OESTE</td>\n",
       "      <td>11</td>\n",
       "      <td>Indústria Têxtil, de Vestuário, Calçados e Art...</td>\n",
       "      <td>3</td>\n",
       "      <td>Tingimento, estamparia e outros acabamentos em...</td>\n",
       "      <td>2014</td>\n",
       "      <td>Eletricidade -  Rede Pública</td>\n",
       "      <td>314,79</td>\n",
       "      <td>MWh</td>\n",
       "      <td>Se possível, informe a quantidade de energia c...</td>\n",
       "      <td>1,13</td>\n",
       "      <td>0,00</td>\n",
       "      <td>Ativa</td>\n",
       "    </tr>\n",
       "  </tbody>\n",
       "</table>\n",
       "</div>"
      ],
      "text/plain": [
       "                 CNPJ                          Razão Social     Estado  \\\n",
       "0  00.001.392/0001-03  COVOLAN BENEFICIAMENTOS TEXTEIS LTDA  SAO PAULO   \n",
       "1  00.001.392/0001-03  COVOLAN BENEFICIAMENTOS TEXTEIS LTDA  SAO PAULO   \n",
       "2  00.001.392/0001-03  COVOLAN BENEFICIAMENTOS TEXTEIS LTDA  SAO PAULO   \n",
       "\n",
       "               Município  Código da Categoria  \\\n",
       "0  SANTA BARBARA D'OESTE                   11   \n",
       "1  SANTA BARBARA D'OESTE                   11   \n",
       "2  SANTA BARBARA D'OESTE                   11   \n",
       "\n",
       "                              Categoria de Atividade  Código do Detalhe  \\\n",
       "0  Indústria Têxtil, de Vestuário, Calçados e Art...                  3   \n",
       "1  Indústria Têxtil, de Vestuário, Calçados e Art...                  3   \n",
       "2  Indústria Têxtil, de Vestuário, Calçados e Art...                  3   \n",
       "\n",
       "                                             Detalhe   Ano  \\\n",
       "0  Tingimento, estamparia e outros acabamentos em...  2012   \n",
       "1  Tingimento, estamparia e outros acabamentos em...  2013   \n",
       "2  Tingimento, estamparia e outros acabamentos em...  2014   \n",
       "\n",
       "       Tipo de Fonte Energética Quantidade Consumida Unidade de Medida  \\\n",
       "0            Gás Natural (Seco)           1920000,00              t/m³   \n",
       "1  Eletricidade -  Rede Pública               232,85               MWh   \n",
       "2  Eletricidade -  Rede Pública               314,79               MWh   \n",
       "\n",
       "                                         Observações Energia Emissões de CO2   \\\n",
       "0  A quantidade de gás natural utilizada como mat...   52,34          2921,72   \n",
       "1  Se possível, informe a quantidade de energia c...    0,84             0,00   \n",
       "2  Se possível, informe a quantidade de energia c...    1,13             0,00   \n",
       "\n",
       "  Situação Cadastral  \n",
       "0              Ativa  \n",
       "1              Ativa  \n",
       "2              Ativa  "
      ]
     },
     "execution_count": 8,
     "metadata": {},
     "output_type": "execute_result"
    }
   ],
   "source": [
    "fe = pd.read_csv('relatorio.csv', sep=';', encoding='utf-8')\n",
    "fe.head(3)"
   ]
  },
  {
   "cell_type": "code",
   "execution_count": 9,
   "metadata": {},
   "outputs": [
    {
     "name": "stdout",
     "output_type": "stream",
     "text": [
      "<class 'pandas.core.frame.DataFrame'>\n",
      "RangeIndex: 212029 entries, 0 to 212028\n",
      "Data columns (total 16 columns):\n",
      " #   Column                    Non-Null Count   Dtype \n",
      "---  ------                    --------------   ----- \n",
      " 0   CNPJ                      212029 non-null  object\n",
      " 1   Razão Social              212029 non-null  object\n",
      " 2   Estado                    212029 non-null  object\n",
      " 3   Município                 212029 non-null  object\n",
      " 4   Código da Categoria       212029 non-null  int64 \n",
      " 5   Categoria de Atividade    212029 non-null  object\n",
      " 6   Código do Detalhe         212029 non-null  int64 \n",
      " 7   Detalhe                   212029 non-null  object\n",
      " 8   Ano                       212029 non-null  int64 \n",
      " 9   Tipo de Fonte Energética  212029 non-null  object\n",
      " 10  Quantidade Consumida      212029 non-null  object\n",
      " 11  Unidade de Medida         212029 non-null  object\n",
      " 12  Observações               186019 non-null  object\n",
      " 13  Energia                   212029 non-null  object\n",
      " 14  Emissões de CO2           207591 non-null  object\n",
      " 15  Situação Cadastral        212029 non-null  object\n",
      "dtypes: int64(3), object(13)\n",
      "memory usage: 25.9+ MB\n"
     ]
    }
   ],
   "source": [
    "fe.info()"
   ]
  },
  {
   "cell_type": "markdown",
   "metadata": {},
   "source": [
    "### Troca de object para float\n",
    "Nota-se que os valores de Consumo, Energia e Emissão estão em str"
   ]
  },
  {
   "cell_type": "code",
   "execution_count": 10,
   "metadata": {},
   "outputs": [
    {
     "data": {
      "text/plain": [
       "'Emissões de CO2 '"
      ]
     },
     "execution_count": 10,
     "metadata": {},
     "output_type": "execute_result"
    }
   ],
   "source": [
    "fe.columns[14]"
   ]
  },
  {
   "cell_type": "markdown",
   "metadata": {},
   "source": [
    "Tem um espaço depois do CO2, por isso que deu erro tentando transformar em float"
   ]
  },
  {
   "cell_type": "markdown",
   "metadata": {},
   "source": [
    "#### Ao tentar fazer a tranformação dava erro nos números por causa da vírgula"
   ]
  },
  {
   "cell_type": "code",
   "execution_count": 11,
   "metadata": {},
   "outputs": [
    {
     "ename": "ValueError",
     "evalue": "could not convert string to float: '1920000,00'",
     "output_type": "error",
     "traceback": [
      "\u001b[1;31m---------------------------------------------------------------------------\u001b[0m",
      "\u001b[1;31mValueError\u001b[0m                                Traceback (most recent call last)",
      "\u001b[1;32m<ipython-input-11-b6e38a3f49aa>\u001b[0m in \u001b[0;36m<module>\u001b[1;34m\u001b[0m\n\u001b[1;32m----> 1\u001b[1;33m \u001b[0mfe\u001b[0m\u001b[1;33m[\u001b[0m\u001b[1;34m'Quantidade Consumida'\u001b[0m\u001b[1;33m]\u001b[0m \u001b[1;33m=\u001b[0m \u001b[0mfe\u001b[0m\u001b[1;33m[\u001b[0m\u001b[1;34m'Quantidade Consumida'\u001b[0m\u001b[1;33m]\u001b[0m\u001b[1;33m.\u001b[0m\u001b[0mastype\u001b[0m\u001b[1;33m(\u001b[0m\u001b[0mfloat\u001b[0m\u001b[1;33m)\u001b[0m\u001b[1;33m\u001b[0m\u001b[1;33m\u001b[0m\u001b[0m\n\u001b[0m\u001b[0;32m      2\u001b[0m \u001b[0mfe\u001b[0m\u001b[1;33m[\u001b[0m\u001b[1;34m'Energia'\u001b[0m\u001b[1;33m]\u001b[0m \u001b[1;33m=\u001b[0m \u001b[0mfe\u001b[0m\u001b[1;33m[\u001b[0m\u001b[1;34m'Energia'\u001b[0m\u001b[1;33m]\u001b[0m\u001b[1;33m.\u001b[0m\u001b[0mastype\u001b[0m\u001b[1;33m(\u001b[0m\u001b[0mfloat\u001b[0m\u001b[1;33m)\u001b[0m\u001b[1;33m\u001b[0m\u001b[1;33m\u001b[0m\u001b[0m\n\u001b[0;32m      3\u001b[0m \u001b[1;33m[\u001b[0m\u001b[0mfe\u001b[0m\u001b[1;33m.\u001b[0m\u001b[0mcolumns\u001b[0m\u001b[1;33m[\u001b[0m\u001b[1;36m14\u001b[0m\u001b[1;33m]\u001b[0m\u001b[1;33m]\u001b[0m \u001b[1;33m=\u001b[0m \u001b[0mfe\u001b[0m\u001b[1;33m[\u001b[0m\u001b[0mfe\u001b[0m\u001b[1;33m.\u001b[0m\u001b[0mcolumns\u001b[0m\u001b[1;33m[\u001b[0m\u001b[1;36m14\u001b[0m\u001b[1;33m]\u001b[0m\u001b[1;33m]\u001b[0m\u001b[1;33m.\u001b[0m\u001b[0mastype\u001b[0m\u001b[1;33m(\u001b[0m\u001b[0mfloat\u001b[0m\u001b[1;33m)\u001b[0m\u001b[1;33m\u001b[0m\u001b[1;33m\u001b[0m\u001b[0m\n",
      "\u001b[1;32mC:\\ProgramData\\Anaconda3\\lib\\site-packages\\pandas\\core\\generic.py\u001b[0m in \u001b[0;36mastype\u001b[1;34m(self, dtype, copy, errors)\u001b[0m\n\u001b[0;32m   5696\u001b[0m         \u001b[1;32melse\u001b[0m\u001b[1;33m:\u001b[0m\u001b[1;33m\u001b[0m\u001b[1;33m\u001b[0m\u001b[0m\n\u001b[0;32m   5697\u001b[0m             \u001b[1;31m# else, only a single dtype is given\u001b[0m\u001b[1;33m\u001b[0m\u001b[1;33m\u001b[0m\u001b[1;33m\u001b[0m\u001b[0m\n\u001b[1;32m-> 5698\u001b[1;33m             \u001b[0mnew_data\u001b[0m \u001b[1;33m=\u001b[0m \u001b[0mself\u001b[0m\u001b[1;33m.\u001b[0m\u001b[0m_data\u001b[0m\u001b[1;33m.\u001b[0m\u001b[0mastype\u001b[0m\u001b[1;33m(\u001b[0m\u001b[0mdtype\u001b[0m\u001b[1;33m=\u001b[0m\u001b[0mdtype\u001b[0m\u001b[1;33m,\u001b[0m \u001b[0mcopy\u001b[0m\u001b[1;33m=\u001b[0m\u001b[0mcopy\u001b[0m\u001b[1;33m,\u001b[0m \u001b[0merrors\u001b[0m\u001b[1;33m=\u001b[0m\u001b[0merrors\u001b[0m\u001b[1;33m)\u001b[0m\u001b[1;33m\u001b[0m\u001b[1;33m\u001b[0m\u001b[0m\n\u001b[0m\u001b[0;32m   5699\u001b[0m             \u001b[1;32mreturn\u001b[0m \u001b[0mself\u001b[0m\u001b[1;33m.\u001b[0m\u001b[0m_constructor\u001b[0m\u001b[1;33m(\u001b[0m\u001b[0mnew_data\u001b[0m\u001b[1;33m)\u001b[0m\u001b[1;33m.\u001b[0m\u001b[0m__finalize__\u001b[0m\u001b[1;33m(\u001b[0m\u001b[0mself\u001b[0m\u001b[1;33m)\u001b[0m\u001b[1;33m\u001b[0m\u001b[1;33m\u001b[0m\u001b[0m\n\u001b[0;32m   5700\u001b[0m \u001b[1;33m\u001b[0m\u001b[0m\n",
      "\u001b[1;32mC:\\ProgramData\\Anaconda3\\lib\\site-packages\\pandas\\core\\internals\\managers.py\u001b[0m in \u001b[0;36mastype\u001b[1;34m(self, dtype, copy, errors)\u001b[0m\n\u001b[0;32m    580\u001b[0m \u001b[1;33m\u001b[0m\u001b[0m\n\u001b[0;32m    581\u001b[0m     \u001b[1;32mdef\u001b[0m \u001b[0mastype\u001b[0m\u001b[1;33m(\u001b[0m\u001b[0mself\u001b[0m\u001b[1;33m,\u001b[0m \u001b[0mdtype\u001b[0m\u001b[1;33m,\u001b[0m \u001b[0mcopy\u001b[0m\u001b[1;33m:\u001b[0m \u001b[0mbool\u001b[0m \u001b[1;33m=\u001b[0m \u001b[1;32mFalse\u001b[0m\u001b[1;33m,\u001b[0m \u001b[0merrors\u001b[0m\u001b[1;33m:\u001b[0m \u001b[0mstr\u001b[0m \u001b[1;33m=\u001b[0m \u001b[1;34m\"raise\"\u001b[0m\u001b[1;33m)\u001b[0m\u001b[1;33m:\u001b[0m\u001b[1;33m\u001b[0m\u001b[1;33m\u001b[0m\u001b[0m\n\u001b[1;32m--> 582\u001b[1;33m         \u001b[1;32mreturn\u001b[0m \u001b[0mself\u001b[0m\u001b[1;33m.\u001b[0m\u001b[0mapply\u001b[0m\u001b[1;33m(\u001b[0m\u001b[1;34m\"astype\"\u001b[0m\u001b[1;33m,\u001b[0m \u001b[0mdtype\u001b[0m\u001b[1;33m=\u001b[0m\u001b[0mdtype\u001b[0m\u001b[1;33m,\u001b[0m \u001b[0mcopy\u001b[0m\u001b[1;33m=\u001b[0m\u001b[0mcopy\u001b[0m\u001b[1;33m,\u001b[0m \u001b[0merrors\u001b[0m\u001b[1;33m=\u001b[0m\u001b[0merrors\u001b[0m\u001b[1;33m)\u001b[0m\u001b[1;33m\u001b[0m\u001b[1;33m\u001b[0m\u001b[0m\n\u001b[0m\u001b[0;32m    583\u001b[0m \u001b[1;33m\u001b[0m\u001b[0m\n\u001b[0;32m    584\u001b[0m     \u001b[1;32mdef\u001b[0m \u001b[0mconvert\u001b[0m\u001b[1;33m(\u001b[0m\u001b[0mself\u001b[0m\u001b[1;33m,\u001b[0m \u001b[1;33m**\u001b[0m\u001b[0mkwargs\u001b[0m\u001b[1;33m)\u001b[0m\u001b[1;33m:\u001b[0m\u001b[1;33m\u001b[0m\u001b[1;33m\u001b[0m\u001b[0m\n",
      "\u001b[1;32mC:\\ProgramData\\Anaconda3\\lib\\site-packages\\pandas\\core\\internals\\managers.py\u001b[0m in \u001b[0;36mapply\u001b[1;34m(self, f, filter, **kwargs)\u001b[0m\n\u001b[0;32m    440\u001b[0m                 \u001b[0mapplied\u001b[0m \u001b[1;33m=\u001b[0m \u001b[0mb\u001b[0m\u001b[1;33m.\u001b[0m\u001b[0mapply\u001b[0m\u001b[1;33m(\u001b[0m\u001b[0mf\u001b[0m\u001b[1;33m,\u001b[0m \u001b[1;33m**\u001b[0m\u001b[0mkwargs\u001b[0m\u001b[1;33m)\u001b[0m\u001b[1;33m\u001b[0m\u001b[1;33m\u001b[0m\u001b[0m\n\u001b[0;32m    441\u001b[0m             \u001b[1;32melse\u001b[0m\u001b[1;33m:\u001b[0m\u001b[1;33m\u001b[0m\u001b[1;33m\u001b[0m\u001b[0m\n\u001b[1;32m--> 442\u001b[1;33m                 \u001b[0mapplied\u001b[0m \u001b[1;33m=\u001b[0m \u001b[0mgetattr\u001b[0m\u001b[1;33m(\u001b[0m\u001b[0mb\u001b[0m\u001b[1;33m,\u001b[0m \u001b[0mf\u001b[0m\u001b[1;33m)\u001b[0m\u001b[1;33m(\u001b[0m\u001b[1;33m**\u001b[0m\u001b[0mkwargs\u001b[0m\u001b[1;33m)\u001b[0m\u001b[1;33m\u001b[0m\u001b[1;33m\u001b[0m\u001b[0m\n\u001b[0m\u001b[0;32m    443\u001b[0m             \u001b[0mresult_blocks\u001b[0m \u001b[1;33m=\u001b[0m \u001b[0m_extend_blocks\u001b[0m\u001b[1;33m(\u001b[0m\u001b[0mapplied\u001b[0m\u001b[1;33m,\u001b[0m \u001b[0mresult_blocks\u001b[0m\u001b[1;33m)\u001b[0m\u001b[1;33m\u001b[0m\u001b[1;33m\u001b[0m\u001b[0m\n\u001b[0;32m    444\u001b[0m \u001b[1;33m\u001b[0m\u001b[0m\n",
      "\u001b[1;32mC:\\ProgramData\\Anaconda3\\lib\\site-packages\\pandas\\core\\internals\\blocks.py\u001b[0m in \u001b[0;36mastype\u001b[1;34m(self, dtype, copy, errors)\u001b[0m\n\u001b[0;32m    623\u001b[0m             \u001b[0mvals1d\u001b[0m \u001b[1;33m=\u001b[0m \u001b[0mvalues\u001b[0m\u001b[1;33m.\u001b[0m\u001b[0mravel\u001b[0m\u001b[1;33m(\u001b[0m\u001b[1;33m)\u001b[0m\u001b[1;33m\u001b[0m\u001b[1;33m\u001b[0m\u001b[0m\n\u001b[0;32m    624\u001b[0m             \u001b[1;32mtry\u001b[0m\u001b[1;33m:\u001b[0m\u001b[1;33m\u001b[0m\u001b[1;33m\u001b[0m\u001b[0m\n\u001b[1;32m--> 625\u001b[1;33m                 \u001b[0mvalues\u001b[0m \u001b[1;33m=\u001b[0m \u001b[0mastype_nansafe\u001b[0m\u001b[1;33m(\u001b[0m\u001b[0mvals1d\u001b[0m\u001b[1;33m,\u001b[0m \u001b[0mdtype\u001b[0m\u001b[1;33m,\u001b[0m \u001b[0mcopy\u001b[0m\u001b[1;33m=\u001b[0m\u001b[1;32mTrue\u001b[0m\u001b[1;33m)\u001b[0m\u001b[1;33m\u001b[0m\u001b[1;33m\u001b[0m\u001b[0m\n\u001b[0m\u001b[0;32m    626\u001b[0m             \u001b[1;32mexcept\u001b[0m \u001b[1;33m(\u001b[0m\u001b[0mValueError\u001b[0m\u001b[1;33m,\u001b[0m \u001b[0mTypeError\u001b[0m\u001b[1;33m)\u001b[0m\u001b[1;33m:\u001b[0m\u001b[1;33m\u001b[0m\u001b[1;33m\u001b[0m\u001b[0m\n\u001b[0;32m    627\u001b[0m                 \u001b[1;31m# e.g. astype_nansafe can fail on object-dtype of strings\u001b[0m\u001b[1;33m\u001b[0m\u001b[1;33m\u001b[0m\u001b[1;33m\u001b[0m\u001b[0m\n",
      "\u001b[1;32mC:\\ProgramData\\Anaconda3\\lib\\site-packages\\pandas\\core\\dtypes\\cast.py\u001b[0m in \u001b[0;36mastype_nansafe\u001b[1;34m(arr, dtype, copy, skipna)\u001b[0m\n\u001b[0;32m    895\u001b[0m     \u001b[1;32mif\u001b[0m \u001b[0mcopy\u001b[0m \u001b[1;32mor\u001b[0m \u001b[0mis_object_dtype\u001b[0m\u001b[1;33m(\u001b[0m\u001b[0marr\u001b[0m\u001b[1;33m)\u001b[0m \u001b[1;32mor\u001b[0m \u001b[0mis_object_dtype\u001b[0m\u001b[1;33m(\u001b[0m\u001b[0mdtype\u001b[0m\u001b[1;33m)\u001b[0m\u001b[1;33m:\u001b[0m\u001b[1;33m\u001b[0m\u001b[1;33m\u001b[0m\u001b[0m\n\u001b[0;32m    896\u001b[0m         \u001b[1;31m# Explicit copy, or required since NumPy can't view from / to object.\u001b[0m\u001b[1;33m\u001b[0m\u001b[1;33m\u001b[0m\u001b[1;33m\u001b[0m\u001b[0m\n\u001b[1;32m--> 897\u001b[1;33m         \u001b[1;32mreturn\u001b[0m \u001b[0marr\u001b[0m\u001b[1;33m.\u001b[0m\u001b[0mastype\u001b[0m\u001b[1;33m(\u001b[0m\u001b[0mdtype\u001b[0m\u001b[1;33m,\u001b[0m \u001b[0mcopy\u001b[0m\u001b[1;33m=\u001b[0m\u001b[1;32mTrue\u001b[0m\u001b[1;33m)\u001b[0m\u001b[1;33m\u001b[0m\u001b[1;33m\u001b[0m\u001b[0m\n\u001b[0m\u001b[0;32m    898\u001b[0m \u001b[1;33m\u001b[0m\u001b[0m\n\u001b[0;32m    899\u001b[0m     \u001b[1;32mreturn\u001b[0m \u001b[0marr\u001b[0m\u001b[1;33m.\u001b[0m\u001b[0mview\u001b[0m\u001b[1;33m(\u001b[0m\u001b[0mdtype\u001b[0m\u001b[1;33m)\u001b[0m\u001b[1;33m\u001b[0m\u001b[1;33m\u001b[0m\u001b[0m\n",
      "\u001b[1;31mValueError\u001b[0m: could not convert string to float: '1920000,00'"
     ]
    }
   ],
   "source": [
    "fe['Quantidade Consumida'] = fe['Quantidade Consumida'].astype(float)\n",
    "fe['Energia'] = fe['Energia'].astype(float)\n",
    "[fe.columns[14]] = fe[fe.columns[14]].astype(float)"
   ]
  },
  {
   "cell_type": "markdown",
   "metadata": {},
   "source": [
    "#### Está dando erro provavelmente porque possui pontos nos números"
   ]
  },
  {
   "cell_type": "markdown",
   "metadata": {},
   "source": [
    "Primeiro retirar o '.' (fiz isso pelo excel, pois não consegui pelo python) e depois substituir a ',' pelo '.'"
   ]
  },
  {
   "cell_type": "code",
   "execution_count": 12,
   "metadata": {
    "scrolled": true
   },
   "outputs": [],
   "source": [
    "#TESTES TENTANDO RETIRAR O PONTO DAS STRINGS\n",
    "#fe['Energia'] = fe['Energia'].replace('.','', regex=True).replace(',','.', regex=True)\n",
    "#fe['Energia'].stack().str.replace('.','').unstack()\n",
    "#fe['Energia'] = fe['Energia'].apply(lambda x: locale.currency(x))\n",
    "#fe['Energia'] = fe['Energia'].apply(lambda x: x.replace(',', '', inplace=True)\n",
    "\n",
    "fe['Energia'].replace(to_replace=',', value='.', regex=True, inplace=True)\n",
    "fe['Quantidade Consumida'].replace(to_replace=',', value='.', regex=True, inplace=True)\n",
    "fe['Emissões de CO2 '].replace(to_replace=',', value='.', regex=True, inplace=True)"
   ]
  },
  {
   "cell_type": "code",
   "execution_count": 13,
   "metadata": {},
   "outputs": [
    {
     "data": {
      "text/html": [
       "<div>\n",
       "<style scoped>\n",
       "    .dataframe tbody tr th:only-of-type {\n",
       "        vertical-align: middle;\n",
       "    }\n",
       "\n",
       "    .dataframe tbody tr th {\n",
       "        vertical-align: top;\n",
       "    }\n",
       "\n",
       "    .dataframe thead th {\n",
       "        text-align: right;\n",
       "    }\n",
       "</style>\n",
       "<table border=\"1\" class=\"dataframe\">\n",
       "  <thead>\n",
       "    <tr style=\"text-align: right;\">\n",
       "      <th></th>\n",
       "      <th>CNPJ</th>\n",
       "      <th>Razão Social</th>\n",
       "      <th>Estado</th>\n",
       "      <th>Município</th>\n",
       "      <th>Código da Categoria</th>\n",
       "      <th>Categoria de Atividade</th>\n",
       "      <th>Código do Detalhe</th>\n",
       "      <th>Detalhe</th>\n",
       "      <th>Ano</th>\n",
       "      <th>Tipo de Fonte Energética</th>\n",
       "      <th>Quantidade Consumida</th>\n",
       "      <th>Unidade de Medida</th>\n",
       "      <th>Observações</th>\n",
       "      <th>Energia</th>\n",
       "      <th>Emissões de CO2</th>\n",
       "      <th>Situação Cadastral</th>\n",
       "    </tr>\n",
       "  </thead>\n",
       "  <tbody>\n",
       "    <tr>\n",
       "      <th>0</th>\n",
       "      <td>00.001.392/0001-03</td>\n",
       "      <td>COVOLAN BENEFICIAMENTOS TEXTEIS LTDA</td>\n",
       "      <td>SAO PAULO</td>\n",
       "      <td>SANTA BARBARA D'OESTE</td>\n",
       "      <td>11</td>\n",
       "      <td>Indústria Têxtil, de Vestuário, Calçados e Art...</td>\n",
       "      <td>3</td>\n",
       "      <td>Tingimento, estamparia e outros acabamentos em...</td>\n",
       "      <td>2012</td>\n",
       "      <td>Gás Natural (Seco)</td>\n",
       "      <td>1920000.00</td>\n",
       "      <td>t/m³</td>\n",
       "      <td>A quantidade de gás natural utilizada como mat...</td>\n",
       "      <td>52.34</td>\n",
       "      <td>2921.72</td>\n",
       "      <td>Ativa</td>\n",
       "    </tr>\n",
       "    <tr>\n",
       "      <th>1</th>\n",
       "      <td>00.001.392/0001-03</td>\n",
       "      <td>COVOLAN BENEFICIAMENTOS TEXTEIS LTDA</td>\n",
       "      <td>SAO PAULO</td>\n",
       "      <td>SANTA BARBARA D'OESTE</td>\n",
       "      <td>11</td>\n",
       "      <td>Indústria Têxtil, de Vestuário, Calçados e Art...</td>\n",
       "      <td>3</td>\n",
       "      <td>Tingimento, estamparia e outros acabamentos em...</td>\n",
       "      <td>2013</td>\n",
       "      <td>Eletricidade -  Rede Pública</td>\n",
       "      <td>232.85</td>\n",
       "      <td>MWh</td>\n",
       "      <td>Se possível, informe a quantidade de energia c...</td>\n",
       "      <td>0.84</td>\n",
       "      <td>0.00</td>\n",
       "      <td>Ativa</td>\n",
       "    </tr>\n",
       "    <tr>\n",
       "      <th>2</th>\n",
       "      <td>00.001.392/0001-03</td>\n",
       "      <td>COVOLAN BENEFICIAMENTOS TEXTEIS LTDA</td>\n",
       "      <td>SAO PAULO</td>\n",
       "      <td>SANTA BARBARA D'OESTE</td>\n",
       "      <td>11</td>\n",
       "      <td>Indústria Têxtil, de Vestuário, Calçados e Art...</td>\n",
       "      <td>3</td>\n",
       "      <td>Tingimento, estamparia e outros acabamentos em...</td>\n",
       "      <td>2014</td>\n",
       "      <td>Eletricidade -  Rede Pública</td>\n",
       "      <td>314.79</td>\n",
       "      <td>MWh</td>\n",
       "      <td>Se possível, informe a quantidade de energia c...</td>\n",
       "      <td>1.13</td>\n",
       "      <td>0.00</td>\n",
       "      <td>Ativa</td>\n",
       "    </tr>\n",
       "    <tr>\n",
       "      <th>3</th>\n",
       "      <td>00.001.392/0001-03</td>\n",
       "      <td>COVOLAN BENEFICIAMENTOS TEXTEIS LTDA</td>\n",
       "      <td>SAO PAULO</td>\n",
       "      <td>SANTA BARBARA D'OESTE</td>\n",
       "      <td>11</td>\n",
       "      <td>Indústria Têxtil, de Vestuário, Calçados e Art...</td>\n",
       "      <td>3</td>\n",
       "      <td>Tingimento, estamparia e outros acabamentos em...</td>\n",
       "      <td>2015</td>\n",
       "      <td>Eletricidade -  Rede Pública</td>\n",
       "      <td>241.43</td>\n",
       "      <td>MWh</td>\n",
       "      <td>Se possível, informe a quantidade de energia c...</td>\n",
       "      <td>0.87</td>\n",
       "      <td>0.00</td>\n",
       "      <td>Ativa</td>\n",
       "    </tr>\n",
       "    <tr>\n",
       "      <th>4</th>\n",
       "      <td>00.001.392/0001-03</td>\n",
       "      <td>COVOLAN BENEFICIAMENTOS TEXTEIS LTDA</td>\n",
       "      <td>SAO PAULO</td>\n",
       "      <td>SANTA BARBARA D'OESTE</td>\n",
       "      <td>11</td>\n",
       "      <td>Indústria Têxtil, de Vestuário, Calçados e Art...</td>\n",
       "      <td>3</td>\n",
       "      <td>Tingimento, estamparia e outros acabamentos em...</td>\n",
       "      <td>2016</td>\n",
       "      <td>Eletricidade -  Rede Pública</td>\n",
       "      <td>223.42</td>\n",
       "      <td>MWh</td>\n",
       "      <td>Se possível, informe a quantidade de energia c...</td>\n",
       "      <td>0.80</td>\n",
       "      <td>0.00</td>\n",
       "      <td>Ativa</td>\n",
       "    </tr>\n",
       "  </tbody>\n",
       "</table>\n",
       "</div>"
      ],
      "text/plain": [
       "                 CNPJ                          Razão Social     Estado  \\\n",
       "0  00.001.392/0001-03  COVOLAN BENEFICIAMENTOS TEXTEIS LTDA  SAO PAULO   \n",
       "1  00.001.392/0001-03  COVOLAN BENEFICIAMENTOS TEXTEIS LTDA  SAO PAULO   \n",
       "2  00.001.392/0001-03  COVOLAN BENEFICIAMENTOS TEXTEIS LTDA  SAO PAULO   \n",
       "3  00.001.392/0001-03  COVOLAN BENEFICIAMENTOS TEXTEIS LTDA  SAO PAULO   \n",
       "4  00.001.392/0001-03  COVOLAN BENEFICIAMENTOS TEXTEIS LTDA  SAO PAULO   \n",
       "\n",
       "               Município  Código da Categoria  \\\n",
       "0  SANTA BARBARA D'OESTE                   11   \n",
       "1  SANTA BARBARA D'OESTE                   11   \n",
       "2  SANTA BARBARA D'OESTE                   11   \n",
       "3  SANTA BARBARA D'OESTE                   11   \n",
       "4  SANTA BARBARA D'OESTE                   11   \n",
       "\n",
       "                              Categoria de Atividade  Código do Detalhe  \\\n",
       "0  Indústria Têxtil, de Vestuário, Calçados e Art...                  3   \n",
       "1  Indústria Têxtil, de Vestuário, Calçados e Art...                  3   \n",
       "2  Indústria Têxtil, de Vestuário, Calçados e Art...                  3   \n",
       "3  Indústria Têxtil, de Vestuário, Calçados e Art...                  3   \n",
       "4  Indústria Têxtil, de Vestuário, Calçados e Art...                  3   \n",
       "\n",
       "                                             Detalhe   Ano  \\\n",
       "0  Tingimento, estamparia e outros acabamentos em...  2012   \n",
       "1  Tingimento, estamparia e outros acabamentos em...  2013   \n",
       "2  Tingimento, estamparia e outros acabamentos em...  2014   \n",
       "3  Tingimento, estamparia e outros acabamentos em...  2015   \n",
       "4  Tingimento, estamparia e outros acabamentos em...  2016   \n",
       "\n",
       "       Tipo de Fonte Energética Quantidade Consumida Unidade de Medida  \\\n",
       "0            Gás Natural (Seco)           1920000.00              t/m³   \n",
       "1  Eletricidade -  Rede Pública               232.85               MWh   \n",
       "2  Eletricidade -  Rede Pública               314.79               MWh   \n",
       "3  Eletricidade -  Rede Pública               241.43               MWh   \n",
       "4  Eletricidade -  Rede Pública               223.42               MWh   \n",
       "\n",
       "                                         Observações Energia Emissões de CO2   \\\n",
       "0  A quantidade de gás natural utilizada como mat...   52.34          2921.72   \n",
       "1  Se possível, informe a quantidade de energia c...    0.84             0.00   \n",
       "2  Se possível, informe a quantidade de energia c...    1.13             0.00   \n",
       "3  Se possível, informe a quantidade de energia c...    0.87             0.00   \n",
       "4  Se possível, informe a quantidade de energia c...    0.80             0.00   \n",
       "\n",
       "  Situação Cadastral  \n",
       "0              Ativa  \n",
       "1              Ativa  \n",
       "2              Ativa  \n",
       "3              Ativa  \n",
       "4              Ativa  "
      ]
     },
     "execution_count": 13,
     "metadata": {},
     "output_type": "execute_result"
    }
   ],
   "source": [
    "fe.head()"
   ]
  },
  {
   "cell_type": "code",
   "execution_count": 14,
   "metadata": {},
   "outputs": [
    {
     "name": "stdout",
     "output_type": "stream",
     "text": [
      "<class 'pandas.core.frame.DataFrame'>\n",
      "RangeIndex: 212029 entries, 0 to 212028\n",
      "Data columns (total 16 columns):\n",
      " #   Column                    Non-Null Count   Dtype \n",
      "---  ------                    --------------   ----- \n",
      " 0   CNPJ                      212029 non-null  object\n",
      " 1   Razão Social              212029 non-null  object\n",
      " 2   Estado                    212029 non-null  object\n",
      " 3   Município                 212029 non-null  object\n",
      " 4   Código da Categoria       212029 non-null  int64 \n",
      " 5   Categoria de Atividade    212029 non-null  object\n",
      " 6   Código do Detalhe         212029 non-null  int64 \n",
      " 7   Detalhe                   212029 non-null  object\n",
      " 8   Ano                       212029 non-null  int64 \n",
      " 9   Tipo de Fonte Energética  212029 non-null  object\n",
      " 10  Quantidade Consumida      212029 non-null  object\n",
      " 11  Unidade de Medida         212029 non-null  object\n",
      " 12  Observações               186019 non-null  object\n",
      " 13  Energia                   212029 non-null  object\n",
      " 14  Emissões de CO2           207591 non-null  object\n",
      " 15  Situação Cadastral        212029 non-null  object\n",
      "dtypes: int64(3), object(13)\n",
      "memory usage: 25.9+ MB\n"
     ]
    }
   ],
   "source": [
    "fe.info()"
   ]
  },
  {
   "cell_type": "markdown",
   "metadata": {},
   "source": [
    "#### Ajustando para float"
   ]
  },
  {
   "cell_type": "code",
   "execution_count": 15,
   "metadata": {},
   "outputs": [],
   "source": [
    "fe['Quantidade Consumida'] = fe['Quantidade Consumida'].astype(float)\n",
    "fe['Energia'] = fe['Energia'].astype(float)\n",
    "fe[fe.columns[14]] = fe[fe.columns[14]].astype(float)"
   ]
  },
  {
   "cell_type": "code",
   "execution_count": 16,
   "metadata": {},
   "outputs": [
    {
     "name": "stdout",
     "output_type": "stream",
     "text": [
      "<class 'pandas.core.frame.DataFrame'>\n",
      "RangeIndex: 212029 entries, 0 to 212028\n",
      "Data columns (total 16 columns):\n",
      " #   Column                    Non-Null Count   Dtype  \n",
      "---  ------                    --------------   -----  \n",
      " 0   CNPJ                      212029 non-null  object \n",
      " 1   Razão Social              212029 non-null  object \n",
      " 2   Estado                    212029 non-null  object \n",
      " 3   Município                 212029 non-null  object \n",
      " 4   Código da Categoria       212029 non-null  int64  \n",
      " 5   Categoria de Atividade    212029 non-null  object \n",
      " 6   Código do Detalhe         212029 non-null  int64  \n",
      " 7   Detalhe                   212029 non-null  object \n",
      " 8   Ano                       212029 non-null  int64  \n",
      " 9   Tipo de Fonte Energética  212029 non-null  object \n",
      " 10  Quantidade Consumida      212029 non-null  float64\n",
      " 11  Unidade de Medida         212029 non-null  object \n",
      " 12  Observações               186019 non-null  object \n",
      " 13  Energia                   212029 non-null  float64\n",
      " 14  Emissões de CO2           207591 non-null  float64\n",
      " 15  Situação Cadastral        212029 non-null  object \n",
      "dtypes: float64(3), int64(3), object(10)\n",
      "memory usage: 25.9+ MB\n"
     ]
    }
   ],
   "source": [
    "fe.info()"
   ]
  },
  {
   "cell_type": "markdown",
   "metadata": {},
   "source": [
    "### 5 estados que mais possuem informações"
   ]
  },
  {
   "cell_type": "code",
   "execution_count": 19,
   "metadata": {},
   "outputs": [
    {
     "data": {
      "text/plain": [
       "SAO PAULO            55944\n",
       "MINAS GERAIS         41346\n",
       "RIO GRANDE DO SUL    24908\n",
       "SANTA CATARINA       20575\n",
       "PARANA               14484\n",
       "Name: Estado, dtype: int64"
      ]
     },
     "execution_count": 19,
     "metadata": {},
     "output_type": "execute_result"
    }
   ],
   "source": [
    "fe['Estado'].value_counts().head()"
   ]
  },
  {
   "cell_type": "markdown",
   "metadata": {},
   "source": [
    "### 5 municípios que mais possuem informações"
   ]
  },
  {
   "cell_type": "code",
   "execution_count": 17,
   "metadata": {
    "scrolled": true
   },
   "outputs": [
    {
     "data": {
      "text/plain": [
       "SAO PAULO                  4953\n",
       "CAXIAS DO SUL              4262\n",
       "RIO DE JANEIRO             2329\n",
       "CACHOEIRO DE ITAPEMIRIM    2091\n",
       "MANAUS                     2048\n",
       "Name: Município, dtype: int64"
      ]
     },
     "execution_count": 17,
     "metadata": {},
     "output_type": "execute_result"
    }
   ],
   "source": [
    "fe['Município'].value_counts().head()"
   ]
  },
  {
   "cell_type": "markdown",
   "metadata": {},
   "source": [
    "### 5 categorias de atividade que mais utilizam das fontes energéticas"
   ]
  },
  {
   "cell_type": "code",
   "execution_count": 18,
   "metadata": {},
   "outputs": [
    {
     "data": {
      "text/plain": [
       "Indústria de Produtos Alimentares e Bebidas     41096\n",
       "Indústria Química                               23757\n",
       "Indústria de Produtos Minerais Não Metálicos    22271\n",
       "Indústria Metalúrgica                           18585\n",
       "Extração e Tratamento de Minerais               15211\n",
       "Name: Categoria de Atividade, dtype: int64"
      ]
     },
     "execution_count": 18,
     "metadata": {},
     "output_type": "execute_result"
    }
   ],
   "source": [
    "fe['Categoria de Atividade'].value_counts().head()"
   ]
  },
  {
   "cell_type": "markdown",
   "metadata": {},
   "source": [
    "#### Correlação entre os dados"
   ]
  },
  {
   "cell_type": "code",
   "execution_count": 20,
   "metadata": {},
   "outputs": [
    {
     "data": {
      "text/plain": [
       "<matplotlib.axes._subplots.AxesSubplot at 0x1a9b1f83040>"
      ]
     },
     "execution_count": 20,
     "metadata": {},
     "output_type": "execute_result"
    },
    {
     "data": {
      "image/png": "[encoded data removed]",
      "text/plain": [
       "<Figure size 432x288 with 2 Axes>"
      ]
     },
     "metadata": {
      "needs_background": "light"
     },
     "output_type": "display_data"
    }
   ],
   "source": [
    "sns.heatmap(fe.corr(), cmap='coolwarm')"
   ]
  },
  {
   "cell_type": "markdown",
   "metadata": {},
   "source": [
    "Nota-se um relação entre Energia e CO2"
   ]
  },
  {
   "cell_type": "code",
   "execution_count": 22,
   "metadata": {},
   "outputs": [
    {
     "data": {
      "text/html": [
       "<div>\n",
       "<style scoped>\n",
       "    .dataframe tbody tr th:only-of-type {\n",
       "        vertical-align: middle;\n",
       "    }\n",
       "\n",
       "    .dataframe tbody tr th {\n",
       "        vertical-align: top;\n",
       "    }\n",
       "\n",
       "    .dataframe thead th {\n",
       "        text-align: right;\n",
       "    }\n",
       "</style>\n",
       "<table border=\"1\" class=\"dataframe\">\n",
       "  <thead>\n",
       "    <tr style=\"text-align: right;\">\n",
       "      <th></th>\n",
       "      <th>Estado</th>\n",
       "      <th>Código da Categoria</th>\n",
       "    </tr>\n",
       "  </thead>\n",
       "  <tbody>\n",
       "    <tr>\n",
       "      <th>0</th>\n",
       "      <td>SAO PAULO</td>\n",
       "      <td>11</td>\n",
       "    </tr>\n",
       "    <tr>\n",
       "      <th>1</th>\n",
       "      <td>SAO PAULO</td>\n",
       "      <td>11</td>\n",
       "    </tr>\n",
       "    <tr>\n",
       "      <th>2</th>\n",
       "      <td>SAO PAULO</td>\n",
       "      <td>11</td>\n",
       "    </tr>\n",
       "    <tr>\n",
       "      <th>3</th>\n",
       "      <td>SAO PAULO</td>\n",
       "      <td>11</td>\n",
       "    </tr>\n",
       "    <tr>\n",
       "      <th>4</th>\n",
       "      <td>SAO PAULO</td>\n",
       "      <td>11</td>\n",
       "    </tr>\n",
       "    <tr>\n",
       "      <th>...</th>\n",
       "      <td>...</td>\n",
       "      <td>...</td>\n",
       "    </tr>\n",
       "    <tr>\n",
       "      <th>212024</th>\n",
       "      <td>RIO GRANDE DO SUL</td>\n",
       "      <td>7</td>\n",
       "    </tr>\n",
       "    <tr>\n",
       "      <th>212025</th>\n",
       "      <td>RIO GRANDE DO SUL</td>\n",
       "      <td>7</td>\n",
       "    </tr>\n",
       "    <tr>\n",
       "      <th>212026</th>\n",
       "      <td>RIO GRANDE DO SUL</td>\n",
       "      <td>7</td>\n",
       "    </tr>\n",
       "    <tr>\n",
       "      <th>212027</th>\n",
       "      <td>RIO GRANDE DO SUL</td>\n",
       "      <td>7</td>\n",
       "    </tr>\n",
       "    <tr>\n",
       "      <th>212028</th>\n",
       "      <td>RIO GRANDE DO SUL</td>\n",
       "      <td>7</td>\n",
       "    </tr>\n",
       "  </tbody>\n",
       "</table>\n",
       "<p>212029 rows × 2 columns</p>\n",
       "</div>"
      ],
      "text/plain": [
       "                   Estado  Código da Categoria\n",
       "0               SAO PAULO                   11\n",
       "1               SAO PAULO                   11\n",
       "2               SAO PAULO                   11\n",
       "3               SAO PAULO                   11\n",
       "4               SAO PAULO                   11\n",
       "...                   ...                  ...\n",
       "212024  RIO GRANDE DO SUL                    7\n",
       "212025  RIO GRANDE DO SUL                    7\n",
       "212026  RIO GRANDE DO SUL                    7\n",
       "212027  RIO GRANDE DO SUL                    7\n",
       "212028  RIO GRANDE DO SUL                    7\n",
       "\n",
       "[212029 rows x 2 columns]"
      ]
     },
     "execution_count": 22,
     "metadata": {},
     "output_type": "execute_result"
    }
   ],
   "source": [
    "fe[['Estado','Código da Categoria']]"
   ]
  },
  {
   "cell_type": "markdown",
   "metadata": {},
   "source": [
    "#### Lista dos valores das colunas"
   ]
  },
  {
   "cell_type": "code",
   "execution_count": 36,
   "metadata": {},
   "outputs": [],
   "source": [
    "states = list(fe['Estado'].drop_duplicates())\n",
    "cod_cat = list(fe['Código da Categoria'].drop_duplicates())\n",
    "situa = list(fe['Situação Cadastral'].drop_duplicates())\n",
    "medidas = list(fe['Unidade de Medida'].drop_duplicates())"
   ]
  },
  {
   "cell_type": "code",
   "execution_count": 37,
   "metadata": {},
   "outputs": [
    {
     "data": {
      "text/plain": [
       "['Ativa',\n",
       " 'Encerramento de atividades',\n",
       " 'Cadastramento indevido',\n",
       " 'Suspenso para Averiguações - dados cadastrais inconsistentes e_ou recadastramento',\n",
       " 'Suspenso para averiguações']"
      ]
     },
     "execution_count": 37,
     "metadata": {},
     "output_type": "execute_result"
    }
   ],
   "source": [
    "situa"
   ]
  },
  {
   "cell_type": "code",
   "execution_count": 38,
   "metadata": {},
   "outputs": [
    {
     "data": {
      "text/plain": [
       "['t/m³', 'MWh', 'TON', 't/st', 't/mdc']"
      ]
     },
     "execution_count": 38,
     "metadata": {},
     "output_type": "execute_result"
    }
   ],
   "source": [
    "medidas"
   ]
  },
  {
   "cell_type": "markdown",
   "metadata": {},
   "source": [
    "#### Estados quantidades de CNPJs por estados"
   ]
  },
  {
   "cell_type": "code",
   "execution_count": 46,
   "metadata": {
    "scrolled": false
   },
   "outputs": [
    {
     "data": {
      "text/plain": [
       "<matplotlib.axes._subplots.AxesSubplot at 0x1a9bfcc0490>"
      ]
     },
     "execution_count": 46,
     "metadata": {},
     "output_type": "execute_result"
    },
    {
     "data": {
      "image/png": "[encoded data removed]",
      "text/plain": [
       "<Figure size 864x432 with 1 Axes>"
      ]
     },
     "metadata": {
      "needs_background": "light"
     },
     "output_type": "display_data"
    }
   ],
   "source": [
    "states=fe.groupby('Estado').count()['CNPJ']\n",
    "states.plot.bar(figsize=(12,6))"
   ]
  },
  {
   "cell_type": "markdown",
   "metadata": {},
   "source": [
    "Nota-se que os top 5 que mais possuem CNPJ e estão inscritas no Cadastro Técnico Federal de Atividades Potencialmente Poluidoras e Utilizadoras de Recursos Naturais no Brasil são: SP, MG, RS, SC e PR"
   ]
  },
  {
   "cell_type": "markdown",
   "metadata": {},
   "source": [
    "### Análise dos CNPJs ativos"
   ]
  },
  {
   "cell_type": "code",
   "execution_count": 25,
   "metadata": {},
   "outputs": [],
   "source": [
    "fe_ativos = fe[fe['Situação Cadastral'] == 'Ativa']"
   ]
  },
  {
   "cell_type": "code",
   "execution_count": 39,
   "metadata": {},
   "outputs": [],
   "source": [
    "cnpj = fe_ativos.groupby('Ano').count()['CNPJ']\n",
    "anos = list(fe['Ano'].drop_duplicates())"
   ]
  },
  {
   "cell_type": "code",
   "execution_count": 45,
   "metadata": {
    "scrolled": true
   },
   "outputs": [
    {
     "data": {
      "image/png": "[encoded data removed]",
      "text/plain": [
       "<Figure size 576x288 with 1 Axes>"
      ]
     },
     "metadata": {
      "needs_background": "light"
     },
     "output_type": "display_data"
    }
   ],
   "source": [
    "plt.figure(figsize=(8,4))\n",
    "plt.bar(anos, cnpj)\n",
    "plt.xticks(anos, rotation = 20)\n",
    "plt.ylabel('CNPJ Ativos')\n",
    "plt.xlabel('Anos')\n",
    "plt.title('Quantidade CNPJ Ativos por Ano')\n",
    "plt.show()"
   ]
  },
  {
   "cell_type": "markdown",
   "metadata": {},
   "source": [
    "### Separação das unidades de medida"
   ]
  },
  {
   "cell_type": "code",
   "execution_count": 29,
   "metadata": {},
   "outputs": [],
   "source": [
    "fe_mwh = fe[fe['Unidade de Medida'] == 'MWh']\n",
    "fe_ton = fe[fe['Unidade de Medida'] == 'TON']\n",
    "fe_mdc = fe[fe['Unidade de Medida'] == 't/mdc']\n",
    "fe_m3 = fe[fe['Unidade de Medida'] == 't/m³']\n",
    "fe_st = fe[fe['Unidade de Medida'] == 't/st']"
   ]
  },
  {
   "cell_type": "markdown",
   "metadata": {},
   "source": [
    "#### Conhecendo os tipos de fonte energética em cada unidade de medida"
   ]
  },
  {
   "cell_type": "code",
   "execution_count": 123,
   "metadata": {},
   "outputs": [
    {
     "data": {
      "text/plain": [
       "['Eletricidade -  Rede Pública',\n",
       " 'Eletricidade - Autoprodução - Hidrelétrica',\n",
       " 'Eletricidade - Autoprodução - Termoelétrica',\n",
       " 'Gás Natural (Seco)',\n",
       " 'Eletricidade - Autoprodução - Fotovoltaica',\n",
       " 'Eletricidade - Autoprodução - Eólica',\n",
       " 'Óleo Combustível',\n",
       " 'Biomassa - Lenha',\n",
       " 'Óleo Diesel',\n",
       " 'Gás Liquefeito de Petróleo (GLP)',\n",
       " 'Biomassa - Serragem/Resíduos de Madeira']"
      ]
     },
     "execution_count": 123,
     "metadata": {},
     "output_type": "execute_result"
    }
   ],
   "source": [
    "list(fe_mwh['Tipo de Fonte Energética'].drop_duplicates())"
   ]
  },
  {
   "cell_type": "code",
   "execution_count": 122,
   "metadata": {
    "scrolled": true
   },
   "outputs": [
    {
     "data": {
      "text/plain": [
       "['Gás Liquefeito de Petróleo (GLP)',\n",
       " 'Biomassa - Lenha',\n",
       " 'Biomassa - Serragem/Resíduos de Madeira',\n",
       " 'Biomassa - Bagaço de Cana',\n",
       " 'Alcatrão',\n",
       " 'Coque de Petróleo',\n",
       " 'Biomassa - Lixívia',\n",
       " 'Nafta',\n",
       " 'Carvão Mineral - Metalúrgico',\n",
       " 'Biomassa - Lã morta de Algodão',\n",
       " 'Ceras Parafínicas',\n",
       " 'Etano',\n",
       " 'Biomassa - Carvão Vegetal',\n",
       " 'Gás de Alto-forno',\n",
       " 'Petróleo Bruto',\n",
       " 'Gás de Forno de Aciária a Oxigênio',\n",
       " 'Orimulsão',\n",
       " 'Coque de Carvão Mineral',\n",
       " 'Biomassa - Gases de Aterro',\n",
       " 'Biomassa - Outro Biogás',\n",
       " 'Óleo Combustível',\n",
       " 'Turfa',\n",
       " 'Xisto Betuminoso e Areias Asfálticas',\n",
       " 'Gás de Refinaria',\n",
       " 'Carvão Mineral - Vapor',\n",
       " 'Carvão Mineral - Aglomerados',\n",
       " 'Óleo de Xisto',\n",
       " 'Biomassa - Casca de Arroz',\n",
       " 'Outro Combustível Não-Renovável',\n",
       " 'Biomassa - Outro Combustível Renovável',\n",
       " 'Gás Natural Úmido',\n",
       " 'Gás Natural (Seco)',\n",
       " 'Líquidos de Gás Natural',\n",
       " 'Óleo Diesel',\n",
       " 'Eletricidade -  Rede Pública',\n",
       " 'Matérias-Primas para Refinaria',\n",
       " 'Gás Manufaturado',\n",
       " 'Eletricidade - Autoprodução - Termoelétrica',\n",
       " 'Gás de Coqueria']"
      ]
     },
     "execution_count": 122,
     "metadata": {},
     "output_type": "execute_result"
    }
   ],
   "source": [
    "list(fe_ton['Tipo de Fonte Energética'].drop_duplicates())"
   ]
  },
  {
   "cell_type": "code",
   "execution_count": 125,
   "metadata": {},
   "outputs": [
    {
     "data": {
      "text/plain": [
       "['Biomassa - Carvão Vegetal', 'Biomassa - Lenha']"
      ]
     },
     "execution_count": 125,
     "metadata": {},
     "output_type": "execute_result"
    }
   ],
   "source": [
    "list(fe_mdc['Tipo de Fonte Energética'].drop_duplicates())"
   ]
  },
  {
   "cell_type": "code",
   "execution_count": 124,
   "metadata": {
    "scrolled": true
   },
   "outputs": [
    {
     "data": {
      "text/plain": [
       "['Gás Natural (Seco)',\n",
       " 'Óleo Diesel',\n",
       " 'Querosene de Aviação',\n",
       " 'Biomassa - Álcool Etílico Anidro',\n",
       " 'Biomassa - Biodiesel B100',\n",
       " 'Gás Natural Úmido',\n",
       " 'Gasolina',\n",
       " 'Lubrificantes',\n",
       " 'Querosene Iluminante',\n",
       " 'Gás Liquefeito de Petróleo (GLP)',\n",
       " 'Eletricidade -  Rede Pública',\n",
       " 'Óleo Combustível',\n",
       " 'Gasolina de Aviação',\n",
       " 'Coque de Petróleo',\n",
       " 'Biomassa - Outro Combustível Renovável',\n",
       " 'Petróleo Bruto',\n",
       " 'Nafta',\n",
       " 'Óleo de Xisto']"
      ]
     },
     "execution_count": 124,
     "metadata": {},
     "output_type": "execute_result"
    }
   ],
   "source": [
    "list(fe_m3['Tipo de Fonte Energética'].drop_duplicates())"
   ]
  },
  {
   "cell_type": "code",
   "execution_count": 126,
   "metadata": {
    "scrolled": true
   },
   "outputs": [
    {
     "data": {
      "text/plain": [
       "['Biomassa - Lenha',\n",
       " 'Biomassa - Outro Combustível Renovável',\n",
       " 'Eletricidade -  Rede Pública',\n",
       " 'Biomassa - Serragem/Resíduos de Madeira',\n",
       " 'Óleo Diesel']"
      ]
     },
     "execution_count": 126,
     "metadata": {},
     "output_type": "execute_result"
    }
   ],
   "source": [
    "list(fe_st['Tipo de Fonte Energética'].drop_duplicates())"
   ]
  },
  {
   "cell_type": "markdown",
   "metadata": {},
   "source": [
    "#### Nota-se que a repetições de entre as unidades de medidas"
   ]
  },
  {
   "cell_type": "markdown",
   "metadata": {},
   "source": [
    "Seria interessante fazer a conversão de unidades para que se mantenha um padrão\n",
    "1 std -> 0.00635029 TON\n",
    "mdc e m³ dependem de mais dados específicos para cada elemento, não podendo fazer a conversão"
   ]
  },
  {
   "cell_type": "code",
   "execution_count": 131,
   "metadata": {
    "scrolled": true
   },
   "outputs": [
    {
     "data": {
      "text/plain": [
       "<matplotlib.axes._subplots.AxesSubplot at 0x1a9c173be20>"
      ]
     },
     "execution_count": 131,
     "metadata": {},
     "output_type": "execute_result"
    },
    {
     "data": {
      "image/png": "[encoded data removed]",
      "text/plain": [
       "<Figure size 432x288 with 1 Axes>"
      ]
     },
     "metadata": {
      "needs_background": "light"
     },
     "output_type": "display_data"
    }
   ],
   "source": [
    "sns.barplot(x='Ano', y='Quantidade Consumida', data=fe_mwh_e)"
   ]
  },
  {
   "cell_type": "code",
   "execution_count": 130,
   "metadata": {},
   "outputs": [
    {
     "data": {
      "text/plain": [
       "<matplotlib.axes._subplots.AxesSubplot at 0x1a9c1583310>"
      ]
     },
     "execution_count": 130,
     "metadata": {},
     "output_type": "execute_result"
    },
    {
     "data": {
      "image/png": "[encoded data removed]",
      "text/plain": [
       "<Figure size 432x288 with 1 Axes>"
      ]
     },
     "metadata": {
      "needs_background": "light"
     },
     "output_type": "display_data"
    }
   ],
   "source": [
    "sns.barplot(x='Ano', y='Quantidade Consumida', data=fe_ton)"
   ]
  },
  {
   "cell_type": "code",
   "execution_count": 129,
   "metadata": {},
   "outputs": [
    {
     "data": {
      "text/plain": [
       "<matplotlib.axes._subplots.AxesSubplot at 0x1a9c13ffe80>"
      ]
     },
     "execution_count": 129,
     "metadata": {},
     "output_type": "execute_result"
    },
    {
     "data": {
      "image/png": "[encoded data removed]",
      "text/plain": [
       "<Figure size 432x288 with 1 Axes>"
      ]
     },
     "metadata": {
      "needs_background": "light"
     },
     "output_type": "display_data"
    }
   ],
   "source": [
    "sns.barplot(x='Ano', y='Quantidade Consumida', data=fe_mdc)"
   ]
  },
  {
   "cell_type": "code",
   "execution_count": 128,
   "metadata": {
    "scrolled": false
   },
   "outputs": [
    {
     "data": {
      "text/plain": [
       "<matplotlib.axes._subplots.AxesSubplot at 0x1a9bfe002e0>"
      ]
     },
     "execution_count": 128,
     "metadata": {},
     "output_type": "execute_result"
    },
    {
     "data": {
      "image/png": "[encoded data removed]",
      "text/plain": [
       "<Figure size 432x288 with 1 Axes>"
      ]
     },
     "metadata": {
      "needs_background": "light"
     },
     "output_type": "display_data"
    }
   ],
   "source": [
    "sns.barplot(x='Ano', y='Quantidade Consumida', data=fe_m3)"
   ]
  },
  {
   "cell_type": "code",
   "execution_count": 127,
   "metadata": {
    "scrolled": false
   },
   "outputs": [
    {
     "data": {
      "text/plain": [
       "<matplotlib.axes._subplots.AxesSubplot at 0x1a9c08e1f10>"
      ]
     },
     "execution_count": 127,
     "metadata": {},
     "output_type": "execute_result"
    },
    {
     "data": {
      "image/png": "[encoded data removed]",
      "text/plain": [
       "<Figure size 432x288 with 1 Axes>"
      ]
     },
     "metadata": {
      "needs_background": "light"
     },
     "output_type": "display_data"
    }
   ],
   "source": [
    "sns.barplot(x='Ano', y='Quantidade Consumida', data=fe_st)"
   ]
  },
  {
   "cell_type": "code",
   "execution_count": 167,
   "metadata": {},
   "outputs": [
    {
     "data": {
      "text/plain": [
       "Tipo de Fonte Energética\n",
       "Biomassa - Outro Biogás                    1.000001e+10\n",
       "Biomassa - Bagaço de Cana                  3.342047e+09\n",
       "Biomassa - Serragem/Resíduos de Madeira    1.626075e+08\n",
       "Gás Natural (Seco)                         1.007084e+08\n",
       "Biomassa - Lenha                           7.766622e+07\n",
       "Gás Liquefeito de Petróleo (GLP)           4.681687e+07\n",
       "Biomassa - Casca de Arroz                  3.459831e+07\n",
       "Óleo Combustível                           2.637535e+07\n",
       "Gás de Alto-forno                          2.120267e+07\n",
       "Gás Natural Úmido                          1.176026e+07\n",
       "Name: Quantidade Consumida, dtype: float64"
      ]
     },
     "execution_count": 167,
     "metadata": {},
     "output_type": "execute_result"
    }
   ],
   "source": [
    "#Analisando apenas o ano de 2015 na unidade de medida TON\n",
    "fe_m3_2014=fe_ton[fe_ton['Ano']==2014]\n",
    "cons3=fe_m3_2014['Quantidade Consumida']\n",
    "tipo3=fe_m3_2014['Tipo de Fonte Energética']\n",
    "\n",
    "fe_m3_2014.groupby('Tipo de Fonte Energética').sum()['Quantidade Consumida'].sort_values(ascending=False).head(10)"
   ]
  },
  {
   "cell_type": "code",
   "execution_count": 166,
   "metadata": {
    "scrolled": false
   },
   "outputs": [
    {
     "data": {
      "text/plain": [
       "Tipo de Fonte Energética\n",
       "Óleo Combustível                           8.001133e+10\n",
       "Gás Liquefeito de Petróleo (GLP)           4.187937e+09\n",
       "Gás de Alto-forno                          8.183439e+08\n",
       "Biomassa - Bagaço de Cana                  3.596510e+08\n",
       "Biomassa - Serragem/Resíduos de Madeira    8.418888e+07\n",
       "Gás Natural (Seco)                         4.050398e+07\n",
       "Biomassa - Lenha                           1.684898e+07\n",
       "Carvão Mineral - Vapor                     1.221766e+07\n",
       "Gás de Forno de Aciária a Oxigênio         9.173463e+06\n",
       "Biomassa - Outro Combustível Renovável     8.473786e+06\n",
       "Name: Quantidade Consumida, dtype: float64"
      ]
     },
     "execution_count": 166,
     "metadata": {},
     "output_type": "execute_result"
    }
   ],
   "source": [
    "#Analisando apenas o ano de 2015 na unidade de medida TON\n",
    "fe_ton_2015=fe_ton[fe_ton['Ano']==2015]\n",
    "cons=fe_ton_2015['Quantidade Consumida']\n",
    "tipo=fe_ton_2015['Tipo de Fonte Energética']\n",
    "\n",
    "fe_ton_2015.groupby('Tipo de Fonte Energética').sum()['Quantidade Consumida'].sort_values(ascending=False).head(10)"
   ]
  },
  {
   "cell_type": "code",
   "execution_count": 165,
   "metadata": {
    "scrolled": false
   },
   "outputs": [
    {
     "data": {
      "text/plain": [
       "Tipo de Fonte Energética\n",
       "Eletricidade -  Rede Pública                   1.182245e+11\n",
       "Eletricidade - Autoprodução - Termoelétrica    1.159076e+09\n",
       "Eletricidade - Autoprodução - Hidrelétrica     3.437581e+08\n",
       "Gás Natural (Seco)                             3.888251e+05\n",
       "Eletricidade - Autoprodução - Eólica           1.007503e+05\n",
       "Eletricidade - Autoprodução - Fotovoltaica     4.306010e+04\n",
       "Biomassa - Lenha                               1.000000e+03\n",
       "Óleo Diesel                                    2.761300e+02\n",
       "Gás Liquefeito de Petróleo (GLP)               1.194000e+01\n",
       "Name: Quantidade Consumida, dtype: float64"
      ]
     },
     "execution_count": 165,
     "metadata": {},
     "output_type": "execute_result"
    }
   ],
   "source": [
    "#Analisando apenas o ano de 2015 na unidade de medida MWh\n",
    "fe_mwh_2015=fe_mwh[fe_mwh['Ano']==2015]\n",
    "cons2=fe_mwh_2015['Quantidade Consumida']\n",
    "tipo2=fe_mwh_2015['Tipo de Fonte Energética']\n",
    "\n",
    "fe_mwh_2015.groupby('Tipo de Fonte Energética').sum()['Quantidade Consumida'].sort_values(ascending=False).head(10)"
   ]
  },
  {
   "cell_type": "markdown",
   "metadata": {},
   "source": [
    "### Porquê do grande aumento do consumo de energia por outros meios de geração?\n",
    "Em 2015 o preço da energia subiu muito, assim, nota-se que as empresas utilizaram meio para gerar energia\\\n",
    "\\\n",
    "https://globoplay.globo.com/v/3890695/ \\\n",
    "\\\n",
    "Jutificativa:\n",
    "- Nova tarifa no setor energético;\n",
    "- Hidrelétricas com baixo reservatório de água não sendo possível o uso com grande demanda."
   ]
  },
  {
   "cell_type": "markdown",
   "metadata": {},
   "source": [
    "#### Análise apenas com MWh"
   ]
  },
  {
   "cell_type": "code",
   "execution_count": 47,
   "metadata": {},
   "outputs": [
    {
     "data": {
      "text/html": [
       "<div>\n",
       "<style scoped>\n",
       "    .dataframe tbody tr th:only-of-type {\n",
       "        vertical-align: middle;\n",
       "    }\n",
       "\n",
       "    .dataframe tbody tr th {\n",
       "        vertical-align: top;\n",
       "    }\n",
       "\n",
       "    .dataframe thead th {\n",
       "        text-align: right;\n",
       "    }\n",
       "</style>\n",
       "<table border=\"1\" class=\"dataframe\">\n",
       "  <thead>\n",
       "    <tr style=\"text-align: right;\">\n",
       "      <th></th>\n",
       "      <th>Estado</th>\n",
       "      <th>Ano</th>\n",
       "      <th>Código da Categoria</th>\n",
       "      <th>Código do Detalhe</th>\n",
       "      <th>Quantidade Consumida</th>\n",
       "      <th>Energia</th>\n",
       "      <th>Emissões de CO2</th>\n",
       "    </tr>\n",
       "  </thead>\n",
       "  <tbody>\n",
       "    <tr>\n",
       "      <th>0</th>\n",
       "      <td>ACRE</td>\n",
       "      <td>2012</td>\n",
       "      <td>16</td>\n",
       "      <td>13</td>\n",
       "      <td>2134664.71</td>\n",
       "      <td>7684792.97</td>\n",
       "      <td>0.0</td>\n",
       "    </tr>\n",
       "    <tr>\n",
       "      <th>1</th>\n",
       "      <td>ACRE</td>\n",
       "      <td>2013</td>\n",
       "      <td>16</td>\n",
       "      <td>13</td>\n",
       "      <td>0.22</td>\n",
       "      <td>0.00</td>\n",
       "      <td>0.0</td>\n",
       "    </tr>\n",
       "    <tr>\n",
       "      <th>2</th>\n",
       "      <td>ACRE</td>\n",
       "      <td>2014</td>\n",
       "      <td>55</td>\n",
       "      <td>24</td>\n",
       "      <td>1753089.12</td>\n",
       "      <td>1.10</td>\n",
       "      <td>0.0</td>\n",
       "    </tr>\n",
       "    <tr>\n",
       "      <th>3</th>\n",
       "      <td>ACRE</td>\n",
       "      <td>2015</td>\n",
       "      <td>40</td>\n",
       "      <td>65</td>\n",
       "      <td>207.41</td>\n",
       "      <td>0.74</td>\n",
       "      <td>0.0</td>\n",
       "    </tr>\n",
       "    <tr>\n",
       "      <th>4</th>\n",
       "      <td>ACRE</td>\n",
       "      <td>2016</td>\n",
       "      <td>61</td>\n",
       "      <td>67</td>\n",
       "      <td>4325.37</td>\n",
       "      <td>15.57</td>\n",
       "      <td>0.0</td>\n",
       "    </tr>\n",
       "    <tr>\n",
       "      <th>...</th>\n",
       "      <td>...</td>\n",
       "      <td>...</td>\n",
       "      <td>...</td>\n",
       "      <td>...</td>\n",
       "      <td>...</td>\n",
       "      <td>...</td>\n",
       "      <td>...</td>\n",
       "    </tr>\n",
       "    <tr>\n",
       "      <th>215</th>\n",
       "      <td>TOCANTINS</td>\n",
       "      <td>2015</td>\n",
       "      <td>1050</td>\n",
       "      <td>971</td>\n",
       "      <td>97992446.58</td>\n",
       "      <td>346550.52</td>\n",
       "      <td>0.0</td>\n",
       "    </tr>\n",
       "    <tr>\n",
       "      <th>216</th>\n",
       "      <td>TOCANTINS</td>\n",
       "      <td>2016</td>\n",
       "      <td>931</td>\n",
       "      <td>621</td>\n",
       "      <td>58774981.28</td>\n",
       "      <td>203963.48</td>\n",
       "      <td>0.0</td>\n",
       "    </tr>\n",
       "    <tr>\n",
       "      <th>217</th>\n",
       "      <td>TOCANTINS</td>\n",
       "      <td>2017</td>\n",
       "      <td>830</td>\n",
       "      <td>425</td>\n",
       "      <td>63577043.64</td>\n",
       "      <td>228340.54</td>\n",
       "      <td>0.0</td>\n",
       "    </tr>\n",
       "    <tr>\n",
       "      <th>218</th>\n",
       "      <td>TOCANTINS</td>\n",
       "      <td>2018</td>\n",
       "      <td>729</td>\n",
       "      <td>411</td>\n",
       "      <td>12071208.17</td>\n",
       "      <td>43379.84</td>\n",
       "      <td>0.0</td>\n",
       "    </tr>\n",
       "    <tr>\n",
       "      <th>219</th>\n",
       "      <td>TOCANTINS</td>\n",
       "      <td>2019</td>\n",
       "      <td>730</td>\n",
       "      <td>382</td>\n",
       "      <td>23396667.57</td>\n",
       "      <td>84271.00</td>\n",
       "      <td>0.0</td>\n",
       "    </tr>\n",
       "  </tbody>\n",
       "</table>\n",
       "<p>220 rows × 7 columns</p>\n",
       "</div>"
      ],
      "text/plain": [
       "        Estado   Ano  Código da Categoria  Código do Detalhe  \\\n",
       "0         ACRE  2012                   16                 13   \n",
       "1         ACRE  2013                   16                 13   \n",
       "2         ACRE  2014                   55                 24   \n",
       "3         ACRE  2015                   40                 65   \n",
       "4         ACRE  2016                   61                 67   \n",
       "..         ...   ...                  ...                ...   \n",
       "215  TOCANTINS  2015                 1050                971   \n",
       "216  TOCANTINS  2016                  931                621   \n",
       "217  TOCANTINS  2017                  830                425   \n",
       "218  TOCANTINS  2018                  729                411   \n",
       "219  TOCANTINS  2019                  730                382   \n",
       "\n",
       "     Quantidade Consumida     Energia  Emissões de CO2   \n",
       "0              2134664.71  7684792.97               0.0  \n",
       "1                    0.22        0.00               0.0  \n",
       "2              1753089.12        1.10               0.0  \n",
       "3                  207.41        0.74               0.0  \n",
       "4                 4325.37       15.57               0.0  \n",
       "..                    ...         ...               ...  \n",
       "215           97992446.58   346550.52               0.0  \n",
       "216           58774981.28   203963.48               0.0  \n",
       "217           63577043.64   228340.54               0.0  \n",
       "218           12071208.17    43379.84               0.0  \n",
       "219           23396667.57    84271.00               0.0  \n",
       "\n",
       "[220 rows x 7 columns]"
      ]
     },
     "execution_count": 47,
     "metadata": {},
     "output_type": "execute_result"
    }
   ],
   "source": [
    "fe_mwh.groupby(['Estado', 'Ano']).sum().reset_index()"
   ]
  },
  {
   "cell_type": "code",
   "execution_count": 48,
   "metadata": {},
   "outputs": [],
   "source": [
    "fe_mwh_e = fe_mwh.groupby(['Estado', 'Ano']).sum().reset_index().drop(columns=['Código da Categoria', 'Código do Detalhe'])"
   ]
  },
  {
   "cell_type": "code",
   "execution_count": 50,
   "metadata": {
    "scrolled": false
   },
   "outputs": [
    {
     "data": {
      "text/html": [
       "<div>\n",
       "<style scoped>\n",
       "    .dataframe tbody tr th:only-of-type {\n",
       "        vertical-align: middle;\n",
       "    }\n",
       "\n",
       "    .dataframe tbody tr th {\n",
       "        vertical-align: top;\n",
       "    }\n",
       "\n",
       "    .dataframe thead th {\n",
       "        text-align: right;\n",
       "    }\n",
       "</style>\n",
       "<table border=\"1\" class=\"dataframe\">\n",
       "  <thead>\n",
       "    <tr style=\"text-align: right;\">\n",
       "      <th></th>\n",
       "      <th>Estado</th>\n",
       "      <th>Ano</th>\n",
       "      <th>Quantidade Consumida</th>\n",
       "      <th>Energia</th>\n",
       "      <th>Emissões de CO2</th>\n",
       "    </tr>\n",
       "  </thead>\n",
       "  <tbody>\n",
       "    <tr>\n",
       "      <th>0</th>\n",
       "      <td>ACRE</td>\n",
       "      <td>2012</td>\n",
       "      <td>2134664.71</td>\n",
       "      <td>7684792.97</td>\n",
       "      <td>0.0</td>\n",
       "    </tr>\n",
       "    <tr>\n",
       "      <th>1</th>\n",
       "      <td>ACRE</td>\n",
       "      <td>2013</td>\n",
       "      <td>0.22</td>\n",
       "      <td>0.00</td>\n",
       "      <td>0.0</td>\n",
       "    </tr>\n",
       "    <tr>\n",
       "      <th>2</th>\n",
       "      <td>ACRE</td>\n",
       "      <td>2014</td>\n",
       "      <td>1753089.12</td>\n",
       "      <td>1.10</td>\n",
       "      <td>0.0</td>\n",
       "    </tr>\n",
       "    <tr>\n",
       "      <th>3</th>\n",
       "      <td>ACRE</td>\n",
       "      <td>2015</td>\n",
       "      <td>207.41</td>\n",
       "      <td>0.74</td>\n",
       "      <td>0.0</td>\n",
       "    </tr>\n",
       "    <tr>\n",
       "      <th>4</th>\n",
       "      <td>ACRE</td>\n",
       "      <td>2016</td>\n",
       "      <td>4325.37</td>\n",
       "      <td>15.57</td>\n",
       "      <td>0.0</td>\n",
       "    </tr>\n",
       "    <tr>\n",
       "      <th>...</th>\n",
       "      <td>...</td>\n",
       "      <td>...</td>\n",
       "      <td>...</td>\n",
       "      <td>...</td>\n",
       "      <td>...</td>\n",
       "    </tr>\n",
       "    <tr>\n",
       "      <th>215</th>\n",
       "      <td>TOCANTINS</td>\n",
       "      <td>2015</td>\n",
       "      <td>97992446.58</td>\n",
       "      <td>346550.52</td>\n",
       "      <td>0.0</td>\n",
       "    </tr>\n",
       "    <tr>\n",
       "      <th>216</th>\n",
       "      <td>TOCANTINS</td>\n",
       "      <td>2016</td>\n",
       "      <td>58774981.28</td>\n",
       "      <td>203963.48</td>\n",
       "      <td>0.0</td>\n",
       "    </tr>\n",
       "    <tr>\n",
       "      <th>217</th>\n",
       "      <td>TOCANTINS</td>\n",
       "      <td>2017</td>\n",
       "      <td>63577043.64</td>\n",
       "      <td>228340.54</td>\n",
       "      <td>0.0</td>\n",
       "    </tr>\n",
       "    <tr>\n",
       "      <th>218</th>\n",
       "      <td>TOCANTINS</td>\n",
       "      <td>2018</td>\n",
       "      <td>12071208.17</td>\n",
       "      <td>43379.84</td>\n",
       "      <td>0.0</td>\n",
       "    </tr>\n",
       "    <tr>\n",
       "      <th>219</th>\n",
       "      <td>TOCANTINS</td>\n",
       "      <td>2019</td>\n",
       "      <td>23396667.57</td>\n",
       "      <td>84271.00</td>\n",
       "      <td>0.0</td>\n",
       "    </tr>\n",
       "  </tbody>\n",
       "</table>\n",
       "<p>220 rows × 5 columns</p>\n",
       "</div>"
      ],
      "text/plain": [
       "        Estado   Ano  Quantidade Consumida     Energia  Emissões de CO2 \n",
       "0         ACRE  2012            2134664.71  7684792.97               0.0\n",
       "1         ACRE  2013                  0.22        0.00               0.0\n",
       "2         ACRE  2014            1753089.12        1.10               0.0\n",
       "3         ACRE  2015                207.41        0.74               0.0\n",
       "4         ACRE  2016               4325.37       15.57               0.0\n",
       "..         ...   ...                   ...         ...               ...\n",
       "215  TOCANTINS  2015           97992446.58   346550.52               0.0\n",
       "216  TOCANTINS  2016           58774981.28   203963.48               0.0\n",
       "217  TOCANTINS  2017           63577043.64   228340.54               0.0\n",
       "218  TOCANTINS  2018           12071208.17    43379.84               0.0\n",
       "219  TOCANTINS  2019           23396667.57    84271.00               0.0\n",
       "\n",
       "[220 rows x 5 columns]"
      ]
     },
     "execution_count": 50,
     "metadata": {},
     "output_type": "execute_result"
    }
   ],
   "source": [
    "fe_mwh_e"
   ]
  },
  {
   "cell_type": "code",
   "execution_count": 81,
   "metadata": {},
   "outputs": [
    {
     "data": {
      "text/plain": [
       "'0.10.1'"
      ]
     },
     "execution_count": 81,
     "metadata": {},
     "output_type": "execute_result"
    }
   ],
   "source": [
    "sns.__version__"
   ]
  },
  {
   "cell_type": "code",
   "execution_count": 53,
   "metadata": {},
   "outputs": [
    {
     "data": {
      "text/plain": [
       "<seaborn.axisgrid.FacetGrid at 0x1a9bfc66b50>"
      ]
     },
     "execution_count": 53,
     "metadata": {},
     "output_type": "execute_result"
    },
    {
     "data": {
      "image/png": "[encoded data removed]",
      "text/plain": [
       "<Figure size 938.125x576 with 1 Axes>"
      ]
     },
     "metadata": {
      "needs_background": "light"
     },
     "output_type": "display_data"
    }
   ],
   "source": [
    "#sns.set_theme(style=\"white\")\n",
    "\n",
    "# Plot miles per gallon against horsepower with other semantics\n",
    "sns.relplot(x=\"Estado\", y=\"Ano\", hue=\"Ano\", size='Energia',\n",
    "            sizes=(100, 400), alpha=1, palette=\"muted\",\n",
    "            height=8, aspect=1.5,\n",
    "            data=fe_mwh_e).set_xticklabels(rotation='vertical')"
   ]
  },
  {
   "cell_type": "code",
   "execution_count": 83,
   "metadata": {},
   "outputs": [
    {
     "data": {
      "text/plain": [
       "([0,\n",
       "  1,\n",
       "  2,\n",
       "  3,\n",
       "  4,\n",
       "  5,\n",
       "  6,\n",
       "  7,\n",
       "  8,\n",
       "  9,\n",
       "  10,\n",
       "  11,\n",
       "  12,\n",
       "  13,\n",
       "  14,\n",
       "  15,\n",
       "  16,\n",
       "  17,\n",
       "  18,\n",
       "  19,\n",
       "  20,\n",
       "  21,\n",
       "  22,\n",
       "  23,\n",
       "  24,\n",
       "  25,\n",
       "  26],\n",
       " <a list of 27 Text major ticklabel objects>)"
      ]
     },
     "execution_count": 83,
     "metadata": {},
     "output_type": "execute_result"
    },
    {
     "data": {
      "image/png": "[encoded data removed]",
      "text/plain": [
       "<Figure size 864x576 with 1 Axes>"
      ]
     },
     "metadata": {
      "needs_background": "light"
     },
     "output_type": "display_data"
    }
   ],
   "source": [
    "plt.figure(figsize=(12,8))\n",
    "plt.bar(fe_mwh_e.groupby('Estado').sum().reset_index()['Estado'], fe_mwh_e.groupby('Estado').sum().reset_index()['Energia'])\n",
    "plt.xticks(rotation='vertical')"
   ]
  },
  {
   "cell_type": "code",
   "execution_count": null,
   "metadata": {},
   "outputs": [],
   "source": [
    "sns.distplot()"
   ]
  },
  {
   "cell_type": "markdown",
   "metadata": {},
   "source": [
    "####### O QUE DA PRA EXPLORAR COM ESSE ARQUIVO ##### \n",
    "- Da pra fazer uma relação de codigos de categoria em relação ao estado\n",
    "- consumo por estado\n",
    "- categoria que mais consome energia\n",
    "- quantidade de empresas inativas por estado e/ou região\n",
    "- Tipo de Fonte Energética por setor e por estado\n",
    "- Seria interessante fazer a conversão de unidades para que se mantenha um padrão\n",
    "1 std -> 0.00635029 TON\n",
    "mdc e m³ dependem de mais dados específicos para cada elemento, não podendo fazer a conversão\n"
   ]
  }
 ],
 "metadata": {
  "kernelspec": {
   "display_name": "Python 3",
   "language": "python",
   "name": "python3"
  },
  "language_info": {
   "codemirror_mode": {
    "name": "ipython",
    "version": 3
   },
   "file_extension": ".py",
   "mimetype": "text/x-python",
   "name": "python",
   "nbconvert_exporter": "python",
   "pygments_lexer": "ipython3",
   "version": "3.8.3"
  }
 },
 "nbformat": 4,
 "nbformat_minor": 4
}
