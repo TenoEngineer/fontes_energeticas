{
 "cells": [
  {
   "cell_type": "markdown",
   "metadata": {},
   "source": [
    "# FONTES ENERGÉTICAS"
   ]
  },
  {
   "cell_type": "code",
   "execution_count": 2,
   "metadata": {},
   "outputs": [],
   "source": [
    "import pandas as pd\n",
    "import numpy as np\n",
    "import matplotlib.pyplot as plt\n",
    "import seaborn as sns\n",
    "%matplotlib inline"
   ]
  },
  {
   "cell_type": "code",
   "execution_count": 3,
   "metadata": {
    "collapsed": true
   },
   "outputs": [
    {
     "data": {
      "text/html": [
       "<div>\n",
       "<style scoped>\n",
       "    .dataframe tbody tr th:only-of-type {\n",
       "        vertical-align: middle;\n",
       "    }\n",
       "\n",
       "    .dataframe tbody tr th {\n",
       "        vertical-align: top;\n",
       "    }\n",
       "\n",
       "    .dataframe thead th {\n",
       "        text-align: right;\n",
       "    }\n",
       "</style>\n",
       "<table border=\"1\" class=\"dataframe\">\n",
       "  <thead>\n",
       "    <tr style=\"text-align: right;\">\n",
       "      <th></th>\n",
       "      <th>CNPJ</th>\n",
       "      <th>Razão Social</th>\n",
       "      <th>Estado</th>\n",
       "      <th>Município</th>\n",
       "      <th>Código da Categoria</th>\n",
       "      <th>Categoria de Atividade</th>\n",
       "      <th>Código do Detalhe</th>\n",
       "      <th>Detalhe</th>\n",
       "      <th>Ano</th>\n",
       "      <th>Tipo de Fonte Energética</th>\n",
       "      <th>Quantidade Consumida</th>\n",
       "      <th>Unidade de Medida</th>\n",
       "      <th>Observações</th>\n",
       "      <th>Energia</th>\n",
       "      <th>Emissões de CO2</th>\n",
       "      <th>Situação Cadastral</th>\n",
       "    </tr>\n",
       "  </thead>\n",
       "  <tbody>\n",
       "    <tr>\n",
       "      <th>0</th>\n",
       "      <td>00.001.392/0001-03</td>\n",
       "      <td>COVOLAN BENEFICIAMENTOS TEXTEIS LTDA</td>\n",
       "      <td>SAO PAULO</td>\n",
       "      <td>SANTA BARBARA D'OESTE</td>\n",
       "      <td>11</td>\n",
       "      <td>Indústria Têxtil, de Vestuário, Calçados e Art...</td>\n",
       "      <td>3</td>\n",
       "      <td>Tingimento, estamparia e outros acabamentos em...</td>\n",
       "      <td>2012</td>\n",
       "      <td>Gás Natural (Seco)</td>\n",
       "      <td>1920000,00</td>\n",
       "      <td>t/m³</td>\n",
       "      <td>A quantidade de gás natural utilizada como mat...</td>\n",
       "      <td>52,34</td>\n",
       "      <td>2921,72</td>\n",
       "      <td>Ativa</td>\n",
       "    </tr>\n",
       "    <tr>\n",
       "      <th>1</th>\n",
       "      <td>00.001.392/0001-03</td>\n",
       "      <td>COVOLAN BENEFICIAMENTOS TEXTEIS LTDA</td>\n",
       "      <td>SAO PAULO</td>\n",
       "      <td>SANTA BARBARA D'OESTE</td>\n",
       "      <td>11</td>\n",
       "      <td>Indústria Têxtil, de Vestuário, Calçados e Art...</td>\n",
       "      <td>3</td>\n",
       "      <td>Tingimento, estamparia e outros acabamentos em...</td>\n",
       "      <td>2013</td>\n",
       "      <td>Eletricidade -  Rede Pública</td>\n",
       "      <td>232,85</td>\n",
       "      <td>MWh</td>\n",
       "      <td>Se possível, informe a quantidade de energia c...</td>\n",
       "      <td>0,84</td>\n",
       "      <td>0,00</td>\n",
       "      <td>Ativa</td>\n",
       "    </tr>\n",
       "    <tr>\n",
       "      <th>2</th>\n",
       "      <td>00.001.392/0001-03</td>\n",
       "      <td>COVOLAN BENEFICIAMENTOS TEXTEIS LTDA</td>\n",
       "      <td>SAO PAULO</td>\n",
       "      <td>SANTA BARBARA D'OESTE</td>\n",
       "      <td>11</td>\n",
       "      <td>Indústria Têxtil, de Vestuário, Calçados e Art...</td>\n",
       "      <td>3</td>\n",
       "      <td>Tingimento, estamparia e outros acabamentos em...</td>\n",
       "      <td>2014</td>\n",
       "      <td>Eletricidade -  Rede Pública</td>\n",
       "      <td>314,79</td>\n",
       "      <td>MWh</td>\n",
       "      <td>Se possível, informe a quantidade de energia c...</td>\n",
       "      <td>1,13</td>\n",
       "      <td>0,00</td>\n",
       "      <td>Ativa</td>\n",
       "    </tr>\n",
       "  </tbody>\n",
       "</table>\n",
       "</div>"
      ],
      "text/plain": [
       "                 CNPJ                          Razão Social     Estado  \\\n",
       "0  00.001.392/0001-03  COVOLAN BENEFICIAMENTOS TEXTEIS LTDA  SAO PAULO   \n",
       "1  00.001.392/0001-03  COVOLAN BENEFICIAMENTOS TEXTEIS LTDA  SAO PAULO   \n",
       "2  00.001.392/0001-03  COVOLAN BENEFICIAMENTOS TEXTEIS LTDA  SAO PAULO   \n",
       "\n",
       "               Município  Código da Categoria  \\\n",
       "0  SANTA BARBARA D'OESTE                   11   \n",
       "1  SANTA BARBARA D'OESTE                   11   \n",
       "2  SANTA BARBARA D'OESTE                   11   \n",
       "\n",
       "                              Categoria de Atividade  Código do Detalhe  \\\n",
       "0  Indústria Têxtil, de Vestuário, Calçados e Art...                  3   \n",
       "1  Indústria Têxtil, de Vestuário, Calçados e Art...                  3   \n",
       "2  Indústria Têxtil, de Vestuário, Calçados e Art...                  3   \n",
       "\n",
       "                                             Detalhe   Ano  \\\n",
       "0  Tingimento, estamparia e outros acabamentos em...  2012   \n",
       "1  Tingimento, estamparia e outros acabamentos em...  2013   \n",
       "2  Tingimento, estamparia e outros acabamentos em...  2014   \n",
       "\n",
       "       Tipo de Fonte Energética Quantidade Consumida Unidade de Medida  \\\n",
       "0            Gás Natural (Seco)           1920000,00              t/m³   \n",
       "1  Eletricidade -  Rede Pública               232,85               MWh   \n",
       "2  Eletricidade -  Rede Pública               314,79               MWh   \n",
       "\n",
       "                                         Observações Energia Emissões de CO2   \\\n",
       "0  A quantidade de gás natural utilizada como mat...   52,34          2921,72   \n",
       "1  Se possível, informe a quantidade de energia c...    0,84             0,00   \n",
       "2  Se possível, informe a quantidade de energia c...    1,13             0,00   \n",
       "\n",
       "  Situação Cadastral  \n",
       "0              Ativa  \n",
       "1              Ativa  \n",
       "2              Ativa  "
      ]
     },
     "execution_count": 3,
     "metadata": {},
     "output_type": "execute_result"
    }
   ],
   "source": [
    "fe = pd.read_csv('relatorio.csv', sep=';', encoding='utf-8')\n",
    "fe.head(3)"
   ]
  },
  {
   "cell_type": "code",
   "execution_count": 300,
   "metadata": {
    "collapsed": true
   },
   "outputs": [
    {
     "name": "stdout",
     "output_type": "stream",
     "text": [
      "<class 'pandas.core.frame.DataFrame'>\n",
      "RangeIndex: 212029 entries, 0 to 212028\n",
      "Data columns (total 16 columns):\n",
      " #   Column                    Non-Null Count   Dtype \n",
      "---  ------                    --------------   ----- \n",
      " 0   CNPJ                      212029 non-null  object\n",
      " 1   Razão Social              212029 non-null  object\n",
      " 2   Estado                    212029 non-null  object\n",
      " 3   Município                 212029 non-null  object\n",
      " 4   Código da Categoria       212029 non-null  int64 \n",
      " 5   Categoria de Atividade    212029 non-null  object\n",
      " 6   Código do Detalhe         212029 non-null  int64 \n",
      " 7   Detalhe                   212029 non-null  object\n",
      " 8   Ano                       212029 non-null  int64 \n",
      " 9   Tipo de Fonte Energética  212029 non-null  object\n",
      " 10  Quantidade Consumida      212029 non-null  object\n",
      " 11  Unidade de Medida         212029 non-null  object\n",
      " 12  Observações               186019 non-null  object\n",
      " 13  Energia                   212029 non-null  object\n",
      " 14  Emissões de CO2           207591 non-null  object\n",
      " 15  Situação Cadastral        212029 non-null  object\n",
      "dtypes: int64(3), object(13)\n",
      "memory usage: 25.9+ MB\n"
     ]
    }
   ],
   "source": [
    "fe.info()"
   ]
  },
  {
   "cell_type": "markdown",
   "metadata": {},
   "source": [
    "### Troca de str para float\n",
    "Nota-se que os valores de Consumo, Energia e Emissão estão em str"
   ]
  },
  {
   "cell_type": "code",
   "execution_count": 182,
   "metadata": {},
   "outputs": [
    {
     "data": {
      "text/plain": [
       "'Emissões de CO2 '"
      ]
     },
     "execution_count": 182,
     "metadata": {},
     "output_type": "execute_result"
    }
   ],
   "source": [
    "fe.columns[14]"
   ]
  },
  {
   "cell_type": "markdown",
   "metadata": {},
   "source": [
    "Tem um espaço depois do CO2, por isso que deu erro tentando transformar em float"
   ]
  },
  {
   "cell_type": "markdown",
   "metadata": {},
   "source": [
    "Ao tentar fazer a tranformação dava erro nos números por causa da vírgula"
   ]
  },
  {
   "cell_type": "code",
   "execution_count": 4,
   "metadata": {},
   "outputs": [
    {
     "ename": "ValueError",
     "evalue": "could not convert string to float: '1920000,00'",
     "output_type": "error",
     "traceback": [
      "\u001b[1;31m---------------------------------------------------------------------------\u001b[0m",
      "\u001b[1;31mValueError\u001b[0m                                Traceback (most recent call last)",
      "\u001b[1;32m<ipython-input-4-b6e38a3f49aa>\u001b[0m in \u001b[0;36m<module>\u001b[1;34m\u001b[0m\n\u001b[1;32m----> 1\u001b[1;33m \u001b[0mfe\u001b[0m\u001b[1;33m[\u001b[0m\u001b[1;34m'Quantidade Consumida'\u001b[0m\u001b[1;33m]\u001b[0m \u001b[1;33m=\u001b[0m \u001b[0mfe\u001b[0m\u001b[1;33m[\u001b[0m\u001b[1;34m'Quantidade Consumida'\u001b[0m\u001b[1;33m]\u001b[0m\u001b[1;33m.\u001b[0m\u001b[0mastype\u001b[0m\u001b[1;33m(\u001b[0m\u001b[0mfloat\u001b[0m\u001b[1;33m)\u001b[0m\u001b[1;33m\u001b[0m\u001b[1;33m\u001b[0m\u001b[0m\n\u001b[0m\u001b[0;32m      2\u001b[0m \u001b[0mfe\u001b[0m\u001b[1;33m[\u001b[0m\u001b[1;34m'Energia'\u001b[0m\u001b[1;33m]\u001b[0m \u001b[1;33m=\u001b[0m \u001b[0mfe\u001b[0m\u001b[1;33m[\u001b[0m\u001b[1;34m'Energia'\u001b[0m\u001b[1;33m]\u001b[0m\u001b[1;33m.\u001b[0m\u001b[0mastype\u001b[0m\u001b[1;33m(\u001b[0m\u001b[0mfloat\u001b[0m\u001b[1;33m)\u001b[0m\u001b[1;33m\u001b[0m\u001b[1;33m\u001b[0m\u001b[0m\n\u001b[0;32m      3\u001b[0m \u001b[1;33m[\u001b[0m\u001b[0mfe\u001b[0m\u001b[1;33m.\u001b[0m\u001b[0mcolumns\u001b[0m\u001b[1;33m[\u001b[0m\u001b[1;36m14\u001b[0m\u001b[1;33m]\u001b[0m\u001b[1;33m]\u001b[0m \u001b[1;33m=\u001b[0m \u001b[0mfe\u001b[0m\u001b[1;33m[\u001b[0m\u001b[0mfe\u001b[0m\u001b[1;33m.\u001b[0m\u001b[0mcolumns\u001b[0m\u001b[1;33m[\u001b[0m\u001b[1;36m14\u001b[0m\u001b[1;33m]\u001b[0m\u001b[1;33m]\u001b[0m\u001b[1;33m.\u001b[0m\u001b[0mastype\u001b[0m\u001b[1;33m(\u001b[0m\u001b[0mfloat\u001b[0m\u001b[1;33m)\u001b[0m\u001b[1;33m\u001b[0m\u001b[1;33m\u001b[0m\u001b[0m\n",
      "\u001b[1;32mC:\\ProgramData\\Anaconda3\\lib\\site-packages\\pandas\\core\\generic.py\u001b[0m in \u001b[0;36mastype\u001b[1;34m(self, dtype, copy, errors)\u001b[0m\n\u001b[0;32m   5696\u001b[0m         \u001b[1;32melse\u001b[0m\u001b[1;33m:\u001b[0m\u001b[1;33m\u001b[0m\u001b[1;33m\u001b[0m\u001b[0m\n\u001b[0;32m   5697\u001b[0m             \u001b[1;31m# else, only a single dtype is given\u001b[0m\u001b[1;33m\u001b[0m\u001b[1;33m\u001b[0m\u001b[1;33m\u001b[0m\u001b[0m\n\u001b[1;32m-> 5698\u001b[1;33m             \u001b[0mnew_data\u001b[0m \u001b[1;33m=\u001b[0m \u001b[0mself\u001b[0m\u001b[1;33m.\u001b[0m\u001b[0m_data\u001b[0m\u001b[1;33m.\u001b[0m\u001b[0mastype\u001b[0m\u001b[1;33m(\u001b[0m\u001b[0mdtype\u001b[0m\u001b[1;33m=\u001b[0m\u001b[0mdtype\u001b[0m\u001b[1;33m,\u001b[0m \u001b[0mcopy\u001b[0m\u001b[1;33m=\u001b[0m\u001b[0mcopy\u001b[0m\u001b[1;33m,\u001b[0m \u001b[0merrors\u001b[0m\u001b[1;33m=\u001b[0m\u001b[0merrors\u001b[0m\u001b[1;33m)\u001b[0m\u001b[1;33m\u001b[0m\u001b[1;33m\u001b[0m\u001b[0m\n\u001b[0m\u001b[0;32m   5699\u001b[0m             \u001b[1;32mreturn\u001b[0m \u001b[0mself\u001b[0m\u001b[1;33m.\u001b[0m\u001b[0m_constructor\u001b[0m\u001b[1;33m(\u001b[0m\u001b[0mnew_data\u001b[0m\u001b[1;33m)\u001b[0m\u001b[1;33m.\u001b[0m\u001b[0m__finalize__\u001b[0m\u001b[1;33m(\u001b[0m\u001b[0mself\u001b[0m\u001b[1;33m)\u001b[0m\u001b[1;33m\u001b[0m\u001b[1;33m\u001b[0m\u001b[0m\n\u001b[0;32m   5700\u001b[0m \u001b[1;33m\u001b[0m\u001b[0m\n",
      "\u001b[1;32mC:\\ProgramData\\Anaconda3\\lib\\site-packages\\pandas\\core\\internals\\managers.py\u001b[0m in \u001b[0;36mastype\u001b[1;34m(self, dtype, copy, errors)\u001b[0m\n\u001b[0;32m    580\u001b[0m \u001b[1;33m\u001b[0m\u001b[0m\n\u001b[0;32m    581\u001b[0m     \u001b[1;32mdef\u001b[0m \u001b[0mastype\u001b[0m\u001b[1;33m(\u001b[0m\u001b[0mself\u001b[0m\u001b[1;33m,\u001b[0m \u001b[0mdtype\u001b[0m\u001b[1;33m,\u001b[0m \u001b[0mcopy\u001b[0m\u001b[1;33m:\u001b[0m \u001b[0mbool\u001b[0m \u001b[1;33m=\u001b[0m \u001b[1;32mFalse\u001b[0m\u001b[1;33m,\u001b[0m \u001b[0merrors\u001b[0m\u001b[1;33m:\u001b[0m \u001b[0mstr\u001b[0m \u001b[1;33m=\u001b[0m \u001b[1;34m\"raise\"\u001b[0m\u001b[1;33m)\u001b[0m\u001b[1;33m:\u001b[0m\u001b[1;33m\u001b[0m\u001b[1;33m\u001b[0m\u001b[0m\n\u001b[1;32m--> 582\u001b[1;33m         \u001b[1;32mreturn\u001b[0m \u001b[0mself\u001b[0m\u001b[1;33m.\u001b[0m\u001b[0mapply\u001b[0m\u001b[1;33m(\u001b[0m\u001b[1;34m\"astype\"\u001b[0m\u001b[1;33m,\u001b[0m \u001b[0mdtype\u001b[0m\u001b[1;33m=\u001b[0m\u001b[0mdtype\u001b[0m\u001b[1;33m,\u001b[0m \u001b[0mcopy\u001b[0m\u001b[1;33m=\u001b[0m\u001b[0mcopy\u001b[0m\u001b[1;33m,\u001b[0m \u001b[0merrors\u001b[0m\u001b[1;33m=\u001b[0m\u001b[0merrors\u001b[0m\u001b[1;33m)\u001b[0m\u001b[1;33m\u001b[0m\u001b[1;33m\u001b[0m\u001b[0m\n\u001b[0m\u001b[0;32m    583\u001b[0m \u001b[1;33m\u001b[0m\u001b[0m\n\u001b[0;32m    584\u001b[0m     \u001b[1;32mdef\u001b[0m \u001b[0mconvert\u001b[0m\u001b[1;33m(\u001b[0m\u001b[0mself\u001b[0m\u001b[1;33m,\u001b[0m \u001b[1;33m**\u001b[0m\u001b[0mkwargs\u001b[0m\u001b[1;33m)\u001b[0m\u001b[1;33m:\u001b[0m\u001b[1;33m\u001b[0m\u001b[1;33m\u001b[0m\u001b[0m\n",
      "\u001b[1;32mC:\\ProgramData\\Anaconda3\\lib\\site-packages\\pandas\\core\\internals\\managers.py\u001b[0m in \u001b[0;36mapply\u001b[1;34m(self, f, filter, **kwargs)\u001b[0m\n\u001b[0;32m    440\u001b[0m                 \u001b[0mapplied\u001b[0m \u001b[1;33m=\u001b[0m \u001b[0mb\u001b[0m\u001b[1;33m.\u001b[0m\u001b[0mapply\u001b[0m\u001b[1;33m(\u001b[0m\u001b[0mf\u001b[0m\u001b[1;33m,\u001b[0m \u001b[1;33m**\u001b[0m\u001b[0mkwargs\u001b[0m\u001b[1;33m)\u001b[0m\u001b[1;33m\u001b[0m\u001b[1;33m\u001b[0m\u001b[0m\n\u001b[0;32m    441\u001b[0m             \u001b[1;32melse\u001b[0m\u001b[1;33m:\u001b[0m\u001b[1;33m\u001b[0m\u001b[1;33m\u001b[0m\u001b[0m\n\u001b[1;32m--> 442\u001b[1;33m                 \u001b[0mapplied\u001b[0m \u001b[1;33m=\u001b[0m \u001b[0mgetattr\u001b[0m\u001b[1;33m(\u001b[0m\u001b[0mb\u001b[0m\u001b[1;33m,\u001b[0m \u001b[0mf\u001b[0m\u001b[1;33m)\u001b[0m\u001b[1;33m(\u001b[0m\u001b[1;33m**\u001b[0m\u001b[0mkwargs\u001b[0m\u001b[1;33m)\u001b[0m\u001b[1;33m\u001b[0m\u001b[1;33m\u001b[0m\u001b[0m\n\u001b[0m\u001b[0;32m    443\u001b[0m             \u001b[0mresult_blocks\u001b[0m \u001b[1;33m=\u001b[0m \u001b[0m_extend_blocks\u001b[0m\u001b[1;33m(\u001b[0m\u001b[0mapplied\u001b[0m\u001b[1;33m,\u001b[0m \u001b[0mresult_blocks\u001b[0m\u001b[1;33m)\u001b[0m\u001b[1;33m\u001b[0m\u001b[1;33m\u001b[0m\u001b[0m\n\u001b[0;32m    444\u001b[0m \u001b[1;33m\u001b[0m\u001b[0m\n",
      "\u001b[1;32mC:\\ProgramData\\Anaconda3\\lib\\site-packages\\pandas\\core\\internals\\blocks.py\u001b[0m in \u001b[0;36mastype\u001b[1;34m(self, dtype, copy, errors)\u001b[0m\n\u001b[0;32m    623\u001b[0m             \u001b[0mvals1d\u001b[0m \u001b[1;33m=\u001b[0m \u001b[0mvalues\u001b[0m\u001b[1;33m.\u001b[0m\u001b[0mravel\u001b[0m\u001b[1;33m(\u001b[0m\u001b[1;33m)\u001b[0m\u001b[1;33m\u001b[0m\u001b[1;33m\u001b[0m\u001b[0m\n\u001b[0;32m    624\u001b[0m             \u001b[1;32mtry\u001b[0m\u001b[1;33m:\u001b[0m\u001b[1;33m\u001b[0m\u001b[1;33m\u001b[0m\u001b[0m\n\u001b[1;32m--> 625\u001b[1;33m                 \u001b[0mvalues\u001b[0m \u001b[1;33m=\u001b[0m \u001b[0mastype_nansafe\u001b[0m\u001b[1;33m(\u001b[0m\u001b[0mvals1d\u001b[0m\u001b[1;33m,\u001b[0m \u001b[0mdtype\u001b[0m\u001b[1;33m,\u001b[0m \u001b[0mcopy\u001b[0m\u001b[1;33m=\u001b[0m\u001b[1;32mTrue\u001b[0m\u001b[1;33m)\u001b[0m\u001b[1;33m\u001b[0m\u001b[1;33m\u001b[0m\u001b[0m\n\u001b[0m\u001b[0;32m    626\u001b[0m             \u001b[1;32mexcept\u001b[0m \u001b[1;33m(\u001b[0m\u001b[0mValueError\u001b[0m\u001b[1;33m,\u001b[0m \u001b[0mTypeError\u001b[0m\u001b[1;33m)\u001b[0m\u001b[1;33m:\u001b[0m\u001b[1;33m\u001b[0m\u001b[1;33m\u001b[0m\u001b[0m\n\u001b[0;32m    627\u001b[0m                 \u001b[1;31m# e.g. astype_nansafe can fail on object-dtype of strings\u001b[0m\u001b[1;33m\u001b[0m\u001b[1;33m\u001b[0m\u001b[1;33m\u001b[0m\u001b[0m\n",
      "\u001b[1;32mC:\\ProgramData\\Anaconda3\\lib\\site-packages\\pandas\\core\\dtypes\\cast.py\u001b[0m in \u001b[0;36mastype_nansafe\u001b[1;34m(arr, dtype, copy, skipna)\u001b[0m\n\u001b[0;32m    895\u001b[0m     \u001b[1;32mif\u001b[0m \u001b[0mcopy\u001b[0m \u001b[1;32mor\u001b[0m \u001b[0mis_object_dtype\u001b[0m\u001b[1;33m(\u001b[0m\u001b[0marr\u001b[0m\u001b[1;33m)\u001b[0m \u001b[1;32mor\u001b[0m \u001b[0mis_object_dtype\u001b[0m\u001b[1;33m(\u001b[0m\u001b[0mdtype\u001b[0m\u001b[1;33m)\u001b[0m\u001b[1;33m:\u001b[0m\u001b[1;33m\u001b[0m\u001b[1;33m\u001b[0m\u001b[0m\n\u001b[0;32m    896\u001b[0m         \u001b[1;31m# Explicit copy, or required since NumPy can't view from / to object.\u001b[0m\u001b[1;33m\u001b[0m\u001b[1;33m\u001b[0m\u001b[1;33m\u001b[0m\u001b[0m\n\u001b[1;32m--> 897\u001b[1;33m         \u001b[1;32mreturn\u001b[0m \u001b[0marr\u001b[0m\u001b[1;33m.\u001b[0m\u001b[0mastype\u001b[0m\u001b[1;33m(\u001b[0m\u001b[0mdtype\u001b[0m\u001b[1;33m,\u001b[0m \u001b[0mcopy\u001b[0m\u001b[1;33m=\u001b[0m\u001b[1;32mTrue\u001b[0m\u001b[1;33m)\u001b[0m\u001b[1;33m\u001b[0m\u001b[1;33m\u001b[0m\u001b[0m\n\u001b[0m\u001b[0;32m    898\u001b[0m \u001b[1;33m\u001b[0m\u001b[0m\n\u001b[0;32m    899\u001b[0m     \u001b[1;32mreturn\u001b[0m \u001b[0marr\u001b[0m\u001b[1;33m.\u001b[0m\u001b[0mview\u001b[0m\u001b[1;33m(\u001b[0m\u001b[0mdtype\u001b[0m\u001b[1;33m)\u001b[0m\u001b[1;33m\u001b[0m\u001b[1;33m\u001b[0m\u001b[0m\n",
      "\u001b[1;31mValueError\u001b[0m: could not convert string to float: '1920000,00'"
     ]
    }
   ],
   "source": [
    "fe['Quantidade Consumida'] = fe['Quantidade Consumida'].astype(float)\n",
    "fe['Energia'] = fe['Energia'].astype(float)\n",
    "[fe.columns[14]] = fe[fe.columns[14]].astype(float)"
   ]
  },
  {
   "cell_type": "markdown",
   "metadata": {},
   "source": [
    "#### Está dando erro provavelmente porque possui pontos nos números"
   ]
  },
  {
   "cell_type": "markdown",
   "metadata": {},
   "source": [
    "Primeiro retirar o '.' (fiz isso pelo excel, pois não consegui pelo python) e depois substituir a ',' pelo '.'"
   ]
  },
  {
   "cell_type": "code",
   "execution_count": 5,
   "metadata": {
    "scrolled": true
   },
   "outputs": [],
   "source": [
    "#TESTES TENTANDO RETIRAR O PONTO DAS STRINGS\n",
    "#fe['Energia'] = fe['Energia'].replace('.','', regex=True).replace(',','.', regex=True)\n",
    "#fe['Energia'].stack().str.replace('.','').unstack()\n",
    "#fe['Energia'] = fe['Energia'].apply(lambda x: locale.currency(x))\n",
    "#fe['Energia'] = fe['Energia'].apply(lambda x: x.replace(',', '', inplace=True)\n",
    "\n",
    "fe['Energia'].replace(to_replace=',', value='.', regex=True, inplace=True)\n",
    "fe['Quantidade Consumida'].replace(to_replace=',', value='.', regex=True, inplace=True)\n",
    "fe['Emissões de CO2 '].replace(to_replace=',', value='.', regex=True, inplace=True)"
   ]
  },
  {
   "cell_type": "code",
   "execution_count": 309,
   "metadata": {
    "collapsed": true
   },
   "outputs": [
    {
     "data": {
      "text/html": [
       "<div>\n",
       "<style scoped>\n",
       "    .dataframe tbody tr th:only-of-type {\n",
       "        vertical-align: middle;\n",
       "    }\n",
       "\n",
       "    .dataframe tbody tr th {\n",
       "        vertical-align: top;\n",
       "    }\n",
       "\n",
       "    .dataframe thead th {\n",
       "        text-align: right;\n",
       "    }\n",
       "</style>\n",
       "<table border=\"1\" class=\"dataframe\">\n",
       "  <thead>\n",
       "    <tr style=\"text-align: right;\">\n",
       "      <th></th>\n",
       "      <th>CNPJ</th>\n",
       "      <th>Razão Social</th>\n",
       "      <th>Estado</th>\n",
       "      <th>Município</th>\n",
       "      <th>Código da Categoria</th>\n",
       "      <th>Categoria de Atividade</th>\n",
       "      <th>Código do Detalhe</th>\n",
       "      <th>Detalhe</th>\n",
       "      <th>Ano</th>\n",
       "      <th>Tipo de Fonte Energética</th>\n",
       "      <th>Quantidade Consumida</th>\n",
       "      <th>Unidade de Medida</th>\n",
       "      <th>Observações</th>\n",
       "      <th>Energia</th>\n",
       "      <th>Emissões de CO2</th>\n",
       "      <th>Situação Cadastral</th>\n",
       "    </tr>\n",
       "  </thead>\n",
       "  <tbody>\n",
       "    <tr>\n",
       "      <th>0</th>\n",
       "      <td>00.001.392/0001-03</td>\n",
       "      <td>COVOLAN BENEFICIAMENTOS TEXTEIS LTDA</td>\n",
       "      <td>SAO PAULO</td>\n",
       "      <td>SANTA BARBARA D'OESTE</td>\n",
       "      <td>11</td>\n",
       "      <td>Indústria Têxtil, de Vestuário, Calçados e Art...</td>\n",
       "      <td>3</td>\n",
       "      <td>Tingimento, estamparia e outros acabamentos em...</td>\n",
       "      <td>2012</td>\n",
       "      <td>Gás Natural (Seco)</td>\n",
       "      <td>1920000.00</td>\n",
       "      <td>t/m³</td>\n",
       "      <td>A quantidade de gás natural utilizada como mat...</td>\n",
       "      <td>52.34</td>\n",
       "      <td>2921.72</td>\n",
       "      <td>Ativa</td>\n",
       "    </tr>\n",
       "    <tr>\n",
       "      <th>1</th>\n",
       "      <td>00.001.392/0001-03</td>\n",
       "      <td>COVOLAN BENEFICIAMENTOS TEXTEIS LTDA</td>\n",
       "      <td>SAO PAULO</td>\n",
       "      <td>SANTA BARBARA D'OESTE</td>\n",
       "      <td>11</td>\n",
       "      <td>Indústria Têxtil, de Vestuário, Calçados e Art...</td>\n",
       "      <td>3</td>\n",
       "      <td>Tingimento, estamparia e outros acabamentos em...</td>\n",
       "      <td>2013</td>\n",
       "      <td>Eletricidade -  Rede Pública</td>\n",
       "      <td>232.85</td>\n",
       "      <td>MWh</td>\n",
       "      <td>Se possível, informe a quantidade de energia c...</td>\n",
       "      <td>0.84</td>\n",
       "      <td>0.00</td>\n",
       "      <td>Ativa</td>\n",
       "    </tr>\n",
       "    <tr>\n",
       "      <th>2</th>\n",
       "      <td>00.001.392/0001-03</td>\n",
       "      <td>COVOLAN BENEFICIAMENTOS TEXTEIS LTDA</td>\n",
       "      <td>SAO PAULO</td>\n",
       "      <td>SANTA BARBARA D'OESTE</td>\n",
       "      <td>11</td>\n",
       "      <td>Indústria Têxtil, de Vestuário, Calçados e Art...</td>\n",
       "      <td>3</td>\n",
       "      <td>Tingimento, estamparia e outros acabamentos em...</td>\n",
       "      <td>2014</td>\n",
       "      <td>Eletricidade -  Rede Pública</td>\n",
       "      <td>314.79</td>\n",
       "      <td>MWh</td>\n",
       "      <td>Se possível, informe a quantidade de energia c...</td>\n",
       "      <td>1.13</td>\n",
       "      <td>0.00</td>\n",
       "      <td>Ativa</td>\n",
       "    </tr>\n",
       "    <tr>\n",
       "      <th>3</th>\n",
       "      <td>00.001.392/0001-03</td>\n",
       "      <td>COVOLAN BENEFICIAMENTOS TEXTEIS LTDA</td>\n",
       "      <td>SAO PAULO</td>\n",
       "      <td>SANTA BARBARA D'OESTE</td>\n",
       "      <td>11</td>\n",
       "      <td>Indústria Têxtil, de Vestuário, Calçados e Art...</td>\n",
       "      <td>3</td>\n",
       "      <td>Tingimento, estamparia e outros acabamentos em...</td>\n",
       "      <td>2015</td>\n",
       "      <td>Eletricidade -  Rede Pública</td>\n",
       "      <td>241.43</td>\n",
       "      <td>MWh</td>\n",
       "      <td>Se possível, informe a quantidade de energia c...</td>\n",
       "      <td>0.87</td>\n",
       "      <td>0.00</td>\n",
       "      <td>Ativa</td>\n",
       "    </tr>\n",
       "    <tr>\n",
       "      <th>4</th>\n",
       "      <td>00.001.392/0001-03</td>\n",
       "      <td>COVOLAN BENEFICIAMENTOS TEXTEIS LTDA</td>\n",
       "      <td>SAO PAULO</td>\n",
       "      <td>SANTA BARBARA D'OESTE</td>\n",
       "      <td>11</td>\n",
       "      <td>Indústria Têxtil, de Vestuário, Calçados e Art...</td>\n",
       "      <td>3</td>\n",
       "      <td>Tingimento, estamparia e outros acabamentos em...</td>\n",
       "      <td>2016</td>\n",
       "      <td>Eletricidade -  Rede Pública</td>\n",
       "      <td>223.42</td>\n",
       "      <td>MWh</td>\n",
       "      <td>Se possível, informe a quantidade de energia c...</td>\n",
       "      <td>0.80</td>\n",
       "      <td>0.00</td>\n",
       "      <td>Ativa</td>\n",
       "    </tr>\n",
       "  </tbody>\n",
       "</table>\n",
       "</div>"
      ],
      "text/plain": [
       "                 CNPJ                          Razão Social     Estado  \\\n",
       "0  00.001.392/0001-03  COVOLAN BENEFICIAMENTOS TEXTEIS LTDA  SAO PAULO   \n",
       "1  00.001.392/0001-03  COVOLAN BENEFICIAMENTOS TEXTEIS LTDA  SAO PAULO   \n",
       "2  00.001.392/0001-03  COVOLAN BENEFICIAMENTOS TEXTEIS LTDA  SAO PAULO   \n",
       "3  00.001.392/0001-03  COVOLAN BENEFICIAMENTOS TEXTEIS LTDA  SAO PAULO   \n",
       "4  00.001.392/0001-03  COVOLAN BENEFICIAMENTOS TEXTEIS LTDA  SAO PAULO   \n",
       "\n",
       "               Município  Código da Categoria  \\\n",
       "0  SANTA BARBARA D'OESTE                   11   \n",
       "1  SANTA BARBARA D'OESTE                   11   \n",
       "2  SANTA BARBARA D'OESTE                   11   \n",
       "3  SANTA BARBARA D'OESTE                   11   \n",
       "4  SANTA BARBARA D'OESTE                   11   \n",
       "\n",
       "                              Categoria de Atividade  Código do Detalhe  \\\n",
       "0  Indústria Têxtil, de Vestuário, Calçados e Art...                  3   \n",
       "1  Indústria Têxtil, de Vestuário, Calçados e Art...                  3   \n",
       "2  Indústria Têxtil, de Vestuário, Calçados e Art...                  3   \n",
       "3  Indústria Têxtil, de Vestuário, Calçados e Art...                  3   \n",
       "4  Indústria Têxtil, de Vestuário, Calçados e Art...                  3   \n",
       "\n",
       "                                             Detalhe   Ano  \\\n",
       "0  Tingimento, estamparia e outros acabamentos em...  2012   \n",
       "1  Tingimento, estamparia e outros acabamentos em...  2013   \n",
       "2  Tingimento, estamparia e outros acabamentos em...  2014   \n",
       "3  Tingimento, estamparia e outros acabamentos em...  2015   \n",
       "4  Tingimento, estamparia e outros acabamentos em...  2016   \n",
       "\n",
       "       Tipo de Fonte Energética Quantidade Consumida Unidade de Medida  \\\n",
       "0            Gás Natural (Seco)           1920000.00              t/m³   \n",
       "1  Eletricidade -  Rede Pública               232.85               MWh   \n",
       "2  Eletricidade -  Rede Pública               314.79               MWh   \n",
       "3  Eletricidade -  Rede Pública               241.43               MWh   \n",
       "4  Eletricidade -  Rede Pública               223.42               MWh   \n",
       "\n",
       "                                         Observações Energia Emissões de CO2   \\\n",
       "0  A quantidade de gás natural utilizada como mat...   52.34          2921.72   \n",
       "1  Se possível, informe a quantidade de energia c...    0.84             0.00   \n",
       "2  Se possível, informe a quantidade de energia c...    1.13             0.00   \n",
       "3  Se possível, informe a quantidade de energia c...    0.87             0.00   \n",
       "4  Se possível, informe a quantidade de energia c...    0.80             0.00   \n",
       "\n",
       "  Situação Cadastral  \n",
       "0              Ativa  \n",
       "1              Ativa  \n",
       "2              Ativa  \n",
       "3              Ativa  \n",
       "4              Ativa  "
      ]
     },
     "execution_count": 309,
     "metadata": {},
     "output_type": "execute_result"
    }
   ],
   "source": [
    "fe.head()"
   ]
  },
  {
   "cell_type": "code",
   "execution_count": 313,
   "metadata": {},
   "outputs": [
    {
     "name": "stdout",
     "output_type": "stream",
     "text": [
      "<class 'pandas.core.frame.DataFrame'>\n",
      "RangeIndex: 212029 entries, 0 to 212028\n",
      "Data columns (total 16 columns):\n",
      " #   Column                    Non-Null Count   Dtype  \n",
      "---  ------                    --------------   -----  \n",
      " 0   CNPJ                      212029 non-null  object \n",
      " 1   Razão Social              212029 non-null  object \n",
      " 2   Estado                    212029 non-null  object \n",
      " 3   Município                 212029 non-null  object \n",
      " 4   Código da Categoria       212029 non-null  int64  \n",
      " 5   Categoria de Atividade    212029 non-null  object \n",
      " 6   Código do Detalhe         212029 non-null  int64  \n",
      " 7   Detalhe                   212029 non-null  object \n",
      " 8   Ano                       212029 non-null  int64  \n",
      " 9   Tipo de Fonte Energética  212029 non-null  object \n",
      " 10  Quantidade Consumida      212029 non-null  float64\n",
      " 11  Unidade de Medida         212029 non-null  object \n",
      " 12  Observações               186019 non-null  object \n",
      " 13  Energia                   212029 non-null  float64\n",
      " 14  Emissões de CO2           207591 non-null  float64\n",
      " 15  Situação Cadastral        212029 non-null  object \n",
      "dtypes: float64(3), int64(3), object(10)\n",
      "memory usage: 25.9+ MB\n"
     ]
    }
   ],
   "source": [
    "fe.info()"
   ]
  },
  {
   "cell_type": "code",
   "execution_count": 6,
   "metadata": {},
   "outputs": [],
   "source": [
    "fe['Quantidade Consumida'] = fe['Quantidade Consumida'].astype(float)\n",
    "fe['Energia'] = fe['Energia'].astype(float)\n",
    "fe[fe.columns[14]] = fe[fe.columns[14]].astype(float)"
   ]
  },
  {
   "cell_type": "code",
   "execution_count": 7,
   "metadata": {},
   "outputs": [
    {
     "name": "stdout",
     "output_type": "stream",
     "text": [
      "<class 'pandas.core.frame.DataFrame'>\n",
      "RangeIndex: 212029 entries, 0 to 212028\n",
      "Data columns (total 16 columns):\n",
      " #   Column                    Non-Null Count   Dtype  \n",
      "---  ------                    --------------   -----  \n",
      " 0   CNPJ                      212029 non-null  object \n",
      " 1   Razão Social              212029 non-null  object \n",
      " 2   Estado                    212029 non-null  object \n",
      " 3   Município                 212029 non-null  object \n",
      " 4   Código da Categoria       212029 non-null  int64  \n",
      " 5   Categoria de Atividade    212029 non-null  object \n",
      " 6   Código do Detalhe         212029 non-null  int64  \n",
      " 7   Detalhe                   212029 non-null  object \n",
      " 8   Ano                       212029 non-null  int64  \n",
      " 9   Tipo de Fonte Energética  212029 non-null  object \n",
      " 10  Quantidade Consumida      212029 non-null  float64\n",
      " 11  Unidade de Medida         212029 non-null  object \n",
      " 12  Observações               186019 non-null  object \n",
      " 13  Energia                   212029 non-null  float64\n",
      " 14  Emissões de CO2           207591 non-null  float64\n",
      " 15  Situação Cadastral        212029 non-null  object \n",
      "dtypes: float64(3), int64(3), object(10)\n",
      "memory usage: 25.9+ MB\n"
     ]
    }
   ],
   "source": [
    "fe.info()"
   ]
  },
  {
   "cell_type": "code",
   "execution_count": 315,
   "metadata": {},
   "outputs": [
    {
     "data": {
      "text/plain": [
       "SAO PAULO                  4953\n",
       "CAXIAS DO SUL              4262\n",
       "RIO DE JANEIRO             2329\n",
       "CACHOEIRO DE ITAPEMIRIM    2091\n",
       "MANAUS                     2048\n",
       "Name: Município, dtype: int64"
      ]
     },
     "execution_count": 315,
     "metadata": {},
     "output_type": "execute_result"
    }
   ],
   "source": [
    "fe['Município'].value_counts().head()"
   ]
  },
  {
   "cell_type": "code",
   "execution_count": 316,
   "metadata": {},
   "outputs": [
    {
     "data": {
      "text/plain": [
       "Indústria de Produtos Alimentares e Bebidas     41096\n",
       "Indústria Química                               23757\n",
       "Indústria de Produtos Minerais Não Metálicos    22271\n",
       "Indústria Metalúrgica                           18585\n",
       "Extração e Tratamento de Minerais               15211\n",
       "Name: Categoria de Atividade, dtype: int64"
      ]
     },
     "execution_count": 316,
     "metadata": {},
     "output_type": "execute_result"
    }
   ],
   "source": [
    "fe['Categoria de Atividade'].value_counts().head()"
   ]
  },
  {
   "cell_type": "code",
   "execution_count": 8,
   "metadata": {},
   "outputs": [
    {
     "data": {
      "text/plain": [
       "SAO PAULO            55944\n",
       "MINAS GERAIS         41346\n",
       "RIO GRANDE DO SUL    24908\n",
       "SANTA CATARINA       20575\n",
       "PARANA               14484\n",
       "Name: Estado, dtype: int64"
      ]
     },
     "execution_count": 8,
     "metadata": {},
     "output_type": "execute_result"
    }
   ],
   "source": [
    "fe['Estado'].value_counts().head()"
   ]
  },
  {
   "cell_type": "code",
   "execution_count": 367,
   "metadata": {},
   "outputs": [
    {
     "data": {
      "text/plain": [
       "<matplotlib.axes._subplots.AxesSubplot at 0x1db70a314f0>"
      ]
     },
     "execution_count": 367,
     "metadata": {},
     "output_type": "execute_result"
    },
    {
     "data": {
      "image/png": "[encoded data removed]",
      "text/plain": [
       "<Figure size 432x288 with 2 Axes>"
      ]
     },
     "metadata": {
      "needs_background": "light"
     },
     "output_type": "display_data"
    }
   ],
   "source": [
    "sns.heatmap(fe.corr(), cmap='coolwarm')"
   ]
  },
  {
   "cell_type": "markdown",
   "metadata": {},
   "source": [
    "Lista dos estados e categorias"
   ]
  },
  {
   "cell_type": "code",
   "execution_count": 133,
   "metadata": {},
   "outputs": [],
   "source": [
    "states = [states for states, df in fe.groupby('Estado')]\n",
    "cod_cat = [cod for cod, df in fe.groupby('Código da Categoria')]"
   ]
  },
  {
   "cell_type": "markdown",
   "metadata": {},
   "source": [
    "#### Nota-se um relação entre Energia e CO2"
   ]
  },
  {
   "cell_type": "markdown",
   "metadata": {},
   "source": [
    "####### O QUE DA PRA EXPLORAR COM ESSE ARQUIVO ##### \n",
    "- Da pra fazer uma relação de codigos de categoria em relação ao estado\n",
    "- consumo por estado\n",
    "- categoria que mais consome energia\n",
    "- tem que retirar as linhas que não estão com medidas em Mwh\n",
    "- quantidade de empresas inativas por estado e/ou região\n",
    "- O que significa essa \"energia\"? é a energia gerada? energia utilizada?\n",
    "- Tipo de Fonte Energética por setor e por estado\n"
   ]
  },
  {
   "cell_type": "code",
   "execution_count": 50,
   "metadata": {},
   "outputs": [
    {
     "data": {
      "text/html": [
       "<div>\n",
       "<style scoped>\n",
       "    .dataframe tbody tr th:only-of-type {\n",
       "        vertical-align: middle;\n",
       "    }\n",
       "\n",
       "    .dataframe tbody tr th {\n",
       "        vertical-align: top;\n",
       "    }\n",
       "\n",
       "    .dataframe thead th {\n",
       "        text-align: right;\n",
       "    }\n",
       "</style>\n",
       "<table border=\"1\" class=\"dataframe\">\n",
       "  <thead>\n",
       "    <tr style=\"text-align: right;\">\n",
       "      <th></th>\n",
       "      <th>Estado</th>\n",
       "      <th>Código da Categoria</th>\n",
       "    </tr>\n",
       "  </thead>\n",
       "  <tbody>\n",
       "    <tr>\n",
       "      <th>0</th>\n",
       "      <td>SAO PAULO</td>\n",
       "      <td>11</td>\n",
       "    </tr>\n",
       "    <tr>\n",
       "      <th>1</th>\n",
       "      <td>SAO PAULO</td>\n",
       "      <td>11</td>\n",
       "    </tr>\n",
       "    <tr>\n",
       "      <th>2</th>\n",
       "      <td>SAO PAULO</td>\n",
       "      <td>11</td>\n",
       "    </tr>\n",
       "    <tr>\n",
       "      <th>3</th>\n",
       "      <td>SAO PAULO</td>\n",
       "      <td>11</td>\n",
       "    </tr>\n",
       "    <tr>\n",
       "      <th>4</th>\n",
       "      <td>SAO PAULO</td>\n",
       "      <td>11</td>\n",
       "    </tr>\n",
       "    <tr>\n",
       "      <th>...</th>\n",
       "      <td>...</td>\n",
       "      <td>...</td>\n",
       "    </tr>\n",
       "    <tr>\n",
       "      <th>212024</th>\n",
       "      <td>RIO GRANDE DO SUL</td>\n",
       "      <td>7</td>\n",
       "    </tr>\n",
       "    <tr>\n",
       "      <th>212025</th>\n",
       "      <td>RIO GRANDE DO SUL</td>\n",
       "      <td>7</td>\n",
       "    </tr>\n",
       "    <tr>\n",
       "      <th>212026</th>\n",
       "      <td>RIO GRANDE DO SUL</td>\n",
       "      <td>7</td>\n",
       "    </tr>\n",
       "    <tr>\n",
       "      <th>212027</th>\n",
       "      <td>RIO GRANDE DO SUL</td>\n",
       "      <td>7</td>\n",
       "    </tr>\n",
       "    <tr>\n",
       "      <th>212028</th>\n",
       "      <td>RIO GRANDE DO SUL</td>\n",
       "      <td>7</td>\n",
       "    </tr>\n",
       "  </tbody>\n",
       "</table>\n",
       "<p>212029 rows × 2 columns</p>\n",
       "</div>"
      ],
      "text/plain": [
       "                   Estado  Código da Categoria\n",
       "0               SAO PAULO                   11\n",
       "1               SAO PAULO                   11\n",
       "2               SAO PAULO                   11\n",
       "3               SAO PAULO                   11\n",
       "4               SAO PAULO                   11\n",
       "...                   ...                  ...\n",
       "212024  RIO GRANDE DO SUL                    7\n",
       "212025  RIO GRANDE DO SUL                    7\n",
       "212026  RIO GRANDE DO SUL                    7\n",
       "212027  RIO GRANDE DO SUL                    7\n",
       "212028  RIO GRANDE DO SUL                    7\n",
       "\n",
       "[212029 rows x 2 columns]"
      ]
     },
     "execution_count": 50,
     "metadata": {},
     "output_type": "execute_result"
    }
   ],
   "source": [
    "fe[['Estado','Código da Categoria']]"
   ]
  },
  {
   "cell_type": "code",
   "execution_count": 103,
   "metadata": {},
   "outputs": [
    {
     "data": {
      "text/plain": [
       "['MWh', 'TON', 't/mdc', 't/m³', 't/st']"
      ]
     },
     "execution_count": 103,
     "metadata": {},
     "output_type": "execute_result"
    }
   ],
   "source": [
    "medidas = [medidas for medidas, df in fe.groupby('Unidade de Medida')]\n",
    "medidas"
   ]
  },
  {
   "cell_type": "code",
   "execution_count": 107,
   "metadata": {},
   "outputs": [
    {
     "data": {
      "text/plain": [
       "['Ativa',\n",
       " 'Cadastramento indevido',\n",
       " 'Encerramento de atividades',\n",
       " 'Suspenso para Averiguações - dados cadastrais inconsistentes e_ou recadastramento',\n",
       " 'Suspenso para averiguações']"
      ]
     },
     "execution_count": 107,
     "metadata": {},
     "output_type": "execute_result"
    }
   ],
   "source": [
    "situa = [situa for situa, df in fe.groupby('Situação Cadastral')]\n",
    "situa"
   ]
  },
  {
   "cell_type": "code",
   "execution_count": 112,
   "metadata": {},
   "outputs": [],
   "source": [
    "fe_ativos = fe[fe['Situação Cadastral'] == 'Ativa']"
   ]
  },
  {
   "cell_type": "code",
   "execution_count": 119,
   "metadata": {},
   "outputs": [],
   "source": [
    "cnpj = fe_ativos.groupby('Ano').count()['CNPJ']\n",
    "anos = [ano for ano, df in fe.groupby('Ano')]"
   ]
  },
  {
   "cell_type": "code",
   "execution_count": 123,
   "metadata": {},
   "outputs": [
    {
     "data": {
      "image/png": "[encoded data removed]",
      "text/plain": [
       "<Figure size 432x288 with 1 Axes>"
      ]
     },
     "metadata": {
      "needs_background": "light"
     },
     "output_type": "display_data"
    }
   ],
   "source": [
    "plt.bar(anos, cnpj)\n",
    "plt.xticks(anos, rotation = 20)\n",
    "plt.ylabel('CNPJ Ativos')\n",
    "plt.xlabel('Anos')\n",
    "plt.title('Quantidade CNPJ Ativos por Ano')\n",
    "plt.show()"
   ]
  },
  {
   "cell_type": "code",
   "execution_count": 154,
   "metadata": {
    "scrolled": false
   },
   "outputs": [
    {
     "data": {
      "text/plain": [
       "<matplotlib.axes._subplots.AxesSubplot at 0x22be0c86af0>"
      ]
     },
     "execution_count": 154,
     "metadata": {},
     "output_type": "execute_result"
    },
    {
     "data": {
      "image/png": "[encoded data removed]",
      "text/plain": [
       "<Figure size 864x432 with 1 Axes>"
      ]
     },
     "metadata": {
      "needs_background": "light"
     },
     "output_type": "display_data"
    }
   ],
   "source": [
    "states=fe.groupby('Estado').count()['CNPJ']\n",
    "states.plot.bar(figsize=(12,6),)"
   ]
  },
  {
   "cell_type": "markdown",
   "metadata": {},
   "source": [
    "##### Nota-se que os top 5 que mais possuem fontes energéticas no Brasil são: SP, MG, RS, SC e PR"
   ]
  },
  {
   "cell_type": "code",
   "execution_count": 125,
   "metadata": {},
   "outputs": [],
   "source": [
    "fe_mwh = fe[fe['Unidade de Medida'] == 'MWh']\n",
    "fe_ton = fe[fe['Unidade de Medida'] == 'TON']\n",
    "fe_mdc = fe[fe['Unidade de Medida'] == 't/mdc']\n",
    "fe_m3 = fe[fe['Unidade de Medida'] == 't/m³']\n",
    "fe_st = fe[fe['Unidade de Medida'] == 't/st']"
   ]
  },
  {
   "cell_type": "code",
   "execution_count": 165,
   "metadata": {},
   "outputs": [
    {
     "data": {
      "text/html": [
       "<div>\n",
       "<style scoped>\n",
       "    .dataframe tbody tr th:only-of-type {\n",
       "        vertical-align: middle;\n",
       "    }\n",
       "\n",
       "    .dataframe tbody tr th {\n",
       "        vertical-align: top;\n",
       "    }\n",
       "\n",
       "    .dataframe thead th {\n",
       "        text-align: right;\n",
       "    }\n",
       "</style>\n",
       "<table border=\"1\" class=\"dataframe\">\n",
       "  <thead>\n",
       "    <tr style=\"text-align: right;\">\n",
       "      <th></th>\n",
       "      <th>Estado</th>\n",
       "      <th>Ano</th>\n",
       "      <th>Código da Categoria</th>\n",
       "      <th>Código do Detalhe</th>\n",
       "      <th>Quantidade Consumida</th>\n",
       "      <th>Energia</th>\n",
       "      <th>Emissões de CO2</th>\n",
       "    </tr>\n",
       "  </thead>\n",
       "  <tbody>\n",
       "    <tr>\n",
       "      <th>0</th>\n",
       "      <td>ACRE</td>\n",
       "      <td>2012</td>\n",
       "      <td>16</td>\n",
       "      <td>13</td>\n",
       "      <td>2134664.71</td>\n",
       "      <td>7684792.97</td>\n",
       "      <td>0.0</td>\n",
       "    </tr>\n",
       "    <tr>\n",
       "      <th>1</th>\n",
       "      <td>ACRE</td>\n",
       "      <td>2013</td>\n",
       "      <td>16</td>\n",
       "      <td>13</td>\n",
       "      <td>0.22</td>\n",
       "      <td>0.00</td>\n",
       "      <td>0.0</td>\n",
       "    </tr>\n",
       "    <tr>\n",
       "      <th>2</th>\n",
       "      <td>ACRE</td>\n",
       "      <td>2014</td>\n",
       "      <td>55</td>\n",
       "      <td>24</td>\n",
       "      <td>1753089.12</td>\n",
       "      <td>1.10</td>\n",
       "      <td>0.0</td>\n",
       "    </tr>\n",
       "    <tr>\n",
       "      <th>3</th>\n",
       "      <td>ACRE</td>\n",
       "      <td>2015</td>\n",
       "      <td>40</td>\n",
       "      <td>65</td>\n",
       "      <td>207.41</td>\n",
       "      <td>0.74</td>\n",
       "      <td>0.0</td>\n",
       "    </tr>\n",
       "    <tr>\n",
       "      <th>4</th>\n",
       "      <td>ACRE</td>\n",
       "      <td>2016</td>\n",
       "      <td>61</td>\n",
       "      <td>67</td>\n",
       "      <td>4325.37</td>\n",
       "      <td>15.57</td>\n",
       "      <td>0.0</td>\n",
       "    </tr>\n",
       "    <tr>\n",
       "      <th>...</th>\n",
       "      <td>...</td>\n",
       "      <td>...</td>\n",
       "      <td>...</td>\n",
       "      <td>...</td>\n",
       "      <td>...</td>\n",
       "      <td>...</td>\n",
       "      <td>...</td>\n",
       "    </tr>\n",
       "    <tr>\n",
       "      <th>215</th>\n",
       "      <td>TOCANTINS</td>\n",
       "      <td>2015</td>\n",
       "      <td>1050</td>\n",
       "      <td>971</td>\n",
       "      <td>97992446.58</td>\n",
       "      <td>346550.52</td>\n",
       "      <td>0.0</td>\n",
       "    </tr>\n",
       "    <tr>\n",
       "      <th>216</th>\n",
       "      <td>TOCANTINS</td>\n",
       "      <td>2016</td>\n",
       "      <td>931</td>\n",
       "      <td>621</td>\n",
       "      <td>58774981.28</td>\n",
       "      <td>203963.48</td>\n",
       "      <td>0.0</td>\n",
       "    </tr>\n",
       "    <tr>\n",
       "      <th>217</th>\n",
       "      <td>TOCANTINS</td>\n",
       "      <td>2017</td>\n",
       "      <td>830</td>\n",
       "      <td>425</td>\n",
       "      <td>63577043.64</td>\n",
       "      <td>228340.54</td>\n",
       "      <td>0.0</td>\n",
       "    </tr>\n",
       "    <tr>\n",
       "      <th>218</th>\n",
       "      <td>TOCANTINS</td>\n",
       "      <td>2018</td>\n",
       "      <td>729</td>\n",
       "      <td>411</td>\n",
       "      <td>12071208.17</td>\n",
       "      <td>43379.84</td>\n",
       "      <td>0.0</td>\n",
       "    </tr>\n",
       "    <tr>\n",
       "      <th>219</th>\n",
       "      <td>TOCANTINS</td>\n",
       "      <td>2019</td>\n",
       "      <td>730</td>\n",
       "      <td>382</td>\n",
       "      <td>23396667.57</td>\n",
       "      <td>84271.00</td>\n",
       "      <td>0.0</td>\n",
       "    </tr>\n",
       "  </tbody>\n",
       "</table>\n",
       "<p>220 rows × 7 columns</p>\n",
       "</div>"
      ],
      "text/plain": [
       "        Estado   Ano  Código da Categoria  Código do Detalhe  \\\n",
       "0         ACRE  2012                   16                 13   \n",
       "1         ACRE  2013                   16                 13   \n",
       "2         ACRE  2014                   55                 24   \n",
       "3         ACRE  2015                   40                 65   \n",
       "4         ACRE  2016                   61                 67   \n",
       "..         ...   ...                  ...                ...   \n",
       "215  TOCANTINS  2015                 1050                971   \n",
       "216  TOCANTINS  2016                  931                621   \n",
       "217  TOCANTINS  2017                  830                425   \n",
       "218  TOCANTINS  2018                  729                411   \n",
       "219  TOCANTINS  2019                  730                382   \n",
       "\n",
       "     Quantidade Consumida     Energia  Emissões de CO2   \n",
       "0              2134664.71  7684792.97               0.0  \n",
       "1                    0.22        0.00               0.0  \n",
       "2              1753089.12        1.10               0.0  \n",
       "3                  207.41        0.74               0.0  \n",
       "4                 4325.37       15.57               0.0  \n",
       "..                    ...         ...               ...  \n",
       "215           97992446.58   346550.52               0.0  \n",
       "216           58774981.28   203963.48               0.0  \n",
       "217           63577043.64   228340.54               0.0  \n",
       "218           12071208.17    43379.84               0.0  \n",
       "219           23396667.57    84271.00               0.0  \n",
       "\n",
       "[220 rows x 7 columns]"
      ]
     },
     "execution_count": 165,
     "metadata": {},
     "output_type": "execute_result"
    }
   ],
   "source": [
    "fe_mwh.groupby(['Estado', 'Ano']).sum().reset_index()"
   ]
  }
 ],
 "metadata": {
  "kernelspec": {
   "display_name": "Python 3",
   "language": "python",
   "name": "python3"
  },
  "language_info": {
   "codemirror_mode": {
    "name": "ipython",
    "version": 3
   },
   "file_extension": ".py",
   "mimetype": "text/x-python",
   "name": "python",
   "nbconvert_exporter": "python",
   "pygments_lexer": "ipython3",
   "version": "3.8.3"
  }
 },
 "nbformat": 4,
 "nbformat_minor": 4
}
